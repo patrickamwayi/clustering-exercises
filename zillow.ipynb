{
 "cells": [
  {
   "cell_type": "code",
   "execution_count": 1,
   "id": "08da3456",
   "metadata": {},
   "outputs": [],
   "source": [
    "\n",
    "#Importing Functions, Libraries and Viz\n",
    "import numpy as np\n",
    "import pandas as pd\n",
    "import matplotlib.pyplot as plt\n",
    "import seaborn as sns\n",
    "import pydataset\n",
    "%matplotlib inline\n",
    "import matplotlib.pyplot as plt\n",
    "import sklearn.preprocessing\n",
    "# Exploring\n",
    "import scipy.stats as stats\n",
    "import warnings\n",
    "warnings.filterwarnings(\"ignore\")\n",
    "\n",
    "# default pandas decimal number display format\n",
    "pd.options.display.float_format = '{:20,.2f}'.format\n",
    "\n",
    "import env\n",
    "import os\n",
    "import wrangle"
   ]
  },
  {
   "cell_type": "markdown",
   "id": "429913d8",
   "metadata": {},
   "source": [
    "### 1. Acquire data from the cloud database.\n",
    "\n",
    "### You will want to end with a single dataframe. Include the logerror field and all other fields related to the properties that are available. You will end up using all the tables in the database.\n",
    "\n",
    "### Be sure to do the correct join (inner, outer, etc.). We do not want to eliminate properties purely because they may have a null value for airconditioningtypeid. - Only include properties with a transaction in 2017, and include only the last transaction for each property (so no duplicate property ID's), along with zestimate error and date of transaction. (Hint: read the docs for the .duplicated method) - Only include properties that have a latitude and longitude value."
   ]
  },
  {
   "cell_type": "code",
   "execution_count": 2,
   "id": "6d994e6c",
   "metadata": {},
   "outputs": [
    {
     "data": {
      "text/html": [
       "<div>\n",
       "<style scoped>\n",
       "    .dataframe tbody tr th:only-of-type {\n",
       "        vertical-align: middle;\n",
       "    }\n",
       "\n",
       "    .dataframe tbody tr th {\n",
       "        vertical-align: top;\n",
       "    }\n",
       "\n",
       "    .dataframe thead th {\n",
       "        text-align: right;\n",
       "    }\n",
       "</style>\n",
       "<table border=\"1\" class=\"dataframe\">\n",
       "  <thead>\n",
       "    <tr style=\"text-align: right;\">\n",
       "      <th></th>\n",
       "      <th>id</th>\n",
       "      <th>parcelid</th>\n",
       "      <th>airconditioningtypeid</th>\n",
       "      <th>architecturalstyletypeid</th>\n",
       "      <th>basementsqft</th>\n",
       "      <th>bathroomcnt</th>\n",
       "      <th>bedroomcnt</th>\n",
       "      <th>buildingclasstypeid</th>\n",
       "      <th>buildingqualitytypeid</th>\n",
       "      <th>calculatedbathnbr</th>\n",
       "      <th>...</th>\n",
       "      <th>censustractandblock</th>\n",
       "      <th>logerror</th>\n",
       "      <th>transactiondate</th>\n",
       "      <th>typeconstructiondesc</th>\n",
       "      <th>airconditioningdesc</th>\n",
       "      <th>architecturalstyledesc</th>\n",
       "      <th>buildingclassdesc</th>\n",
       "      <th>propertylandusedesc</th>\n",
       "      <th>storydesc</th>\n",
       "      <th>heatingorsystemdesc</th>\n",
       "    </tr>\n",
       "  </thead>\n",
       "  <tbody>\n",
       "    <tr>\n",
       "      <th>0</th>\n",
       "      <td>1727539</td>\n",
       "      <td>14297519</td>\n",
       "      <td>NaN</td>\n",
       "      <td>NaN</td>\n",
       "      <td>NaN</td>\n",
       "      <td>3.50</td>\n",
       "      <td>4.00</td>\n",
       "      <td>NaN</td>\n",
       "      <td>NaN</td>\n",
       "      <td>3.50</td>\n",
       "      <td>...</td>\n",
       "      <td>60,590,630,072,012.00</td>\n",
       "      <td>0.03</td>\n",
       "      <td>2017-01-01</td>\n",
       "      <td>NaN</td>\n",
       "      <td>NaN</td>\n",
       "      <td>NaN</td>\n",
       "      <td>NaN</td>\n",
       "      <td>Single Family Residential</td>\n",
       "      <td>NaN</td>\n",
       "      <td>NaN</td>\n",
       "    </tr>\n",
       "    <tr>\n",
       "      <th>1</th>\n",
       "      <td>1387261</td>\n",
       "      <td>17052889</td>\n",
       "      <td>NaN</td>\n",
       "      <td>NaN</td>\n",
       "      <td>NaN</td>\n",
       "      <td>1.00</td>\n",
       "      <td>2.00</td>\n",
       "      <td>NaN</td>\n",
       "      <td>NaN</td>\n",
       "      <td>1.00</td>\n",
       "      <td>...</td>\n",
       "      <td>61,110,010,023,006.00</td>\n",
       "      <td>0.06</td>\n",
       "      <td>2017-01-01</td>\n",
       "      <td>NaN</td>\n",
       "      <td>NaN</td>\n",
       "      <td>NaN</td>\n",
       "      <td>NaN</td>\n",
       "      <td>Single Family Residential</td>\n",
       "      <td>NaN</td>\n",
       "      <td>NaN</td>\n",
       "    </tr>\n",
       "    <tr>\n",
       "      <th>2</th>\n",
       "      <td>11677</td>\n",
       "      <td>14186244</td>\n",
       "      <td>NaN</td>\n",
       "      <td>NaN</td>\n",
       "      <td>NaN</td>\n",
       "      <td>2.00</td>\n",
       "      <td>3.00</td>\n",
       "      <td>NaN</td>\n",
       "      <td>NaN</td>\n",
       "      <td>2.00</td>\n",
       "      <td>...</td>\n",
       "      <td>60,590,218,022,012.00</td>\n",
       "      <td>0.01</td>\n",
       "      <td>2017-01-01</td>\n",
       "      <td>NaN</td>\n",
       "      <td>NaN</td>\n",
       "      <td>NaN</td>\n",
       "      <td>NaN</td>\n",
       "      <td>Single Family Residential</td>\n",
       "      <td>NaN</td>\n",
       "      <td>NaN</td>\n",
       "    </tr>\n",
       "    <tr>\n",
       "      <th>3</th>\n",
       "      <td>2288172</td>\n",
       "      <td>12177905</td>\n",
       "      <td>NaN</td>\n",
       "      <td>NaN</td>\n",
       "      <td>NaN</td>\n",
       "      <td>3.00</td>\n",
       "      <td>4.00</td>\n",
       "      <td>NaN</td>\n",
       "      <td>8.00</td>\n",
       "      <td>3.00</td>\n",
       "      <td>...</td>\n",
       "      <td>60,373,001,001,006.00</td>\n",
       "      <td>-0.10</td>\n",
       "      <td>2017-01-01</td>\n",
       "      <td>NaN</td>\n",
       "      <td>NaN</td>\n",
       "      <td>NaN</td>\n",
       "      <td>NaN</td>\n",
       "      <td>Single Family Residential</td>\n",
       "      <td>NaN</td>\n",
       "      <td>Central</td>\n",
       "    </tr>\n",
       "    <tr>\n",
       "      <th>4</th>\n",
       "      <td>1970746</td>\n",
       "      <td>10887214</td>\n",
       "      <td>1.00</td>\n",
       "      <td>NaN</td>\n",
       "      <td>NaN</td>\n",
       "      <td>3.00</td>\n",
       "      <td>3.00</td>\n",
       "      <td>NaN</td>\n",
       "      <td>8.00</td>\n",
       "      <td>3.00</td>\n",
       "      <td>...</td>\n",
       "      <td>60,371,236,012,000.00</td>\n",
       "      <td>0.01</td>\n",
       "      <td>2017-01-01</td>\n",
       "      <td>NaN</td>\n",
       "      <td>Central</td>\n",
       "      <td>NaN</td>\n",
       "      <td>NaN</td>\n",
       "      <td>Condominium</td>\n",
       "      <td>NaN</td>\n",
       "      <td>Central</td>\n",
       "    </tr>\n",
       "    <tr>\n",
       "      <th>...</th>\n",
       "      <td>...</td>\n",
       "      <td>...</td>\n",
       "      <td>...</td>\n",
       "      <td>...</td>\n",
       "      <td>...</td>\n",
       "      <td>...</td>\n",
       "      <td>...</td>\n",
       "      <td>...</td>\n",
       "      <td>...</td>\n",
       "      <td>...</td>\n",
       "      <td>...</td>\n",
       "      <td>...</td>\n",
       "      <td>...</td>\n",
       "      <td>...</td>\n",
       "      <td>...</td>\n",
       "      <td>...</td>\n",
       "      <td>...</td>\n",
       "      <td>...</td>\n",
       "      <td>...</td>\n",
       "      <td>...</td>\n",
       "      <td>...</td>\n",
       "    </tr>\n",
       "    <tr>\n",
       "      <th>77375</th>\n",
       "      <td>2864704</td>\n",
       "      <td>10833991</td>\n",
       "      <td>1.00</td>\n",
       "      <td>NaN</td>\n",
       "      <td>NaN</td>\n",
       "      <td>3.00</td>\n",
       "      <td>3.00</td>\n",
       "      <td>NaN</td>\n",
       "      <td>8.00</td>\n",
       "      <td>3.00</td>\n",
       "      <td>...</td>\n",
       "      <td>60,371,319,001,006.00</td>\n",
       "      <td>-0.00</td>\n",
       "      <td>2017-09-20</td>\n",
       "      <td>NaN</td>\n",
       "      <td>Central</td>\n",
       "      <td>NaN</td>\n",
       "      <td>NaN</td>\n",
       "      <td>Condominium</td>\n",
       "      <td>NaN</td>\n",
       "      <td>Central</td>\n",
       "    </tr>\n",
       "    <tr>\n",
       "      <th>77376</th>\n",
       "      <td>673515</td>\n",
       "      <td>11000655</td>\n",
       "      <td>NaN</td>\n",
       "      <td>NaN</td>\n",
       "      <td>NaN</td>\n",
       "      <td>2.00</td>\n",
       "      <td>2.00</td>\n",
       "      <td>NaN</td>\n",
       "      <td>6.00</td>\n",
       "      <td>2.00</td>\n",
       "      <td>...</td>\n",
       "      <td>60,371,014,003,002.00</td>\n",
       "      <td>0.02</td>\n",
       "      <td>2017-09-20</td>\n",
       "      <td>NaN</td>\n",
       "      <td>NaN</td>\n",
       "      <td>NaN</td>\n",
       "      <td>NaN</td>\n",
       "      <td>Single Family Residential</td>\n",
       "      <td>NaN</td>\n",
       "      <td>Central</td>\n",
       "    </tr>\n",
       "    <tr>\n",
       "      <th>77377</th>\n",
       "      <td>2968375</td>\n",
       "      <td>17239384</td>\n",
       "      <td>NaN</td>\n",
       "      <td>NaN</td>\n",
       "      <td>NaN</td>\n",
       "      <td>2.00</td>\n",
       "      <td>4.00</td>\n",
       "      <td>NaN</td>\n",
       "      <td>NaN</td>\n",
       "      <td>2.00</td>\n",
       "      <td>...</td>\n",
       "      <td>61,110,084,022,016.00</td>\n",
       "      <td>0.01</td>\n",
       "      <td>2017-09-21</td>\n",
       "      <td>NaN</td>\n",
       "      <td>NaN</td>\n",
       "      <td>NaN</td>\n",
       "      <td>NaN</td>\n",
       "      <td>Single Family Residential</td>\n",
       "      <td>NaN</td>\n",
       "      <td>NaN</td>\n",
       "    </tr>\n",
       "    <tr>\n",
       "      <th>77378</th>\n",
       "      <td>1843709</td>\n",
       "      <td>12773139</td>\n",
       "      <td>1.00</td>\n",
       "      <td>NaN</td>\n",
       "      <td>NaN</td>\n",
       "      <td>1.00</td>\n",
       "      <td>3.00</td>\n",
       "      <td>NaN</td>\n",
       "      <td>4.00</td>\n",
       "      <td>1.00</td>\n",
       "      <td>...</td>\n",
       "      <td>60,374,338,022,005.00</td>\n",
       "      <td>0.04</td>\n",
       "      <td>2017-09-21</td>\n",
       "      <td>NaN</td>\n",
       "      <td>Central</td>\n",
       "      <td>NaN</td>\n",
       "      <td>NaN</td>\n",
       "      <td>Single Family Residential</td>\n",
       "      <td>NaN</td>\n",
       "      <td>Central</td>\n",
       "    </tr>\n",
       "    <tr>\n",
       "      <th>77379</th>\n",
       "      <td>1187175</td>\n",
       "      <td>12826780</td>\n",
       "      <td>NaN</td>\n",
       "      <td>NaN</td>\n",
       "      <td>NaN</td>\n",
       "      <td>2.00</td>\n",
       "      <td>3.00</td>\n",
       "      <td>NaN</td>\n",
       "      <td>6.00</td>\n",
       "      <td>2.00</td>\n",
       "      <td>...</td>\n",
       "      <td>60,375,034,021,020.00</td>\n",
       "      <td>0.01</td>\n",
       "      <td>2017-09-25</td>\n",
       "      <td>NaN</td>\n",
       "      <td>NaN</td>\n",
       "      <td>NaN</td>\n",
       "      <td>NaN</td>\n",
       "      <td>Single Family Residential</td>\n",
       "      <td>NaN</td>\n",
       "      <td>Central</td>\n",
       "    </tr>\n",
       "  </tbody>\n",
       "</table>\n",
       "<p>77380 rows × 68 columns</p>\n",
       "</div>"
      ],
      "text/plain": [
       "            id  parcelid  airconditioningtypeid  architecturalstyletypeid  \\\n",
       "0      1727539  14297519                    NaN                       NaN   \n",
       "1      1387261  17052889                    NaN                       NaN   \n",
       "2        11677  14186244                    NaN                       NaN   \n",
       "3      2288172  12177905                    NaN                       NaN   \n",
       "4      1970746  10887214                   1.00                       NaN   \n",
       "...        ...       ...                    ...                       ...   \n",
       "77375  2864704  10833991                   1.00                       NaN   \n",
       "77376   673515  11000655                    NaN                       NaN   \n",
       "77377  2968375  17239384                    NaN                       NaN   \n",
       "77378  1843709  12773139                   1.00                       NaN   \n",
       "77379  1187175  12826780                    NaN                       NaN   \n",
       "\n",
       "       basementsqft          bathroomcnt           bedroomcnt  \\\n",
       "0               NaN                 3.50                 4.00   \n",
       "1               NaN                 1.00                 2.00   \n",
       "2               NaN                 2.00                 3.00   \n",
       "3               NaN                 3.00                 4.00   \n",
       "4               NaN                 3.00                 3.00   \n",
       "...             ...                  ...                  ...   \n",
       "77375           NaN                 3.00                 3.00   \n",
       "77376           NaN                 2.00                 2.00   \n",
       "77377           NaN                 2.00                 4.00   \n",
       "77378           NaN                 1.00                 3.00   \n",
       "77379           NaN                 2.00                 3.00   \n",
       "\n",
       "       buildingclasstypeid  buildingqualitytypeid    calculatedbathnbr  ...  \\\n",
       "0                      NaN                    NaN                 3.50  ...   \n",
       "1                      NaN                    NaN                 1.00  ...   \n",
       "2                      NaN                    NaN                 2.00  ...   \n",
       "3                      NaN                   8.00                 3.00  ...   \n",
       "4                      NaN                   8.00                 3.00  ...   \n",
       "...                    ...                    ...                  ...  ...   \n",
       "77375                  NaN                   8.00                 3.00  ...   \n",
       "77376                  NaN                   6.00                 2.00  ...   \n",
       "77377                  NaN                    NaN                 2.00  ...   \n",
       "77378                  NaN                   4.00                 1.00  ...   \n",
       "77379                  NaN                   6.00                 2.00  ...   \n",
       "\n",
       "        censustractandblock             logerror  transactiondate  \\\n",
       "0     60,590,630,072,012.00                 0.03       2017-01-01   \n",
       "1     61,110,010,023,006.00                 0.06       2017-01-01   \n",
       "2     60,590,218,022,012.00                 0.01       2017-01-01   \n",
       "3     60,373,001,001,006.00                -0.10       2017-01-01   \n",
       "4     60,371,236,012,000.00                 0.01       2017-01-01   \n",
       "...                     ...                  ...              ...   \n",
       "77375 60,371,319,001,006.00                -0.00       2017-09-20   \n",
       "77376 60,371,014,003,002.00                 0.02       2017-09-20   \n",
       "77377 61,110,084,022,016.00                 0.01       2017-09-21   \n",
       "77378 60,374,338,022,005.00                 0.04       2017-09-21   \n",
       "77379 60,375,034,021,020.00                 0.01       2017-09-25   \n",
       "\n",
       "       typeconstructiondesc  airconditioningdesc  architecturalstyledesc  \\\n",
       "0                       NaN                  NaN                     NaN   \n",
       "1                       NaN                  NaN                     NaN   \n",
       "2                       NaN                  NaN                     NaN   \n",
       "3                       NaN                  NaN                     NaN   \n",
       "4                       NaN              Central                     NaN   \n",
       "...                     ...                  ...                     ...   \n",
       "77375                   NaN              Central                     NaN   \n",
       "77376                   NaN                  NaN                     NaN   \n",
       "77377                   NaN                  NaN                     NaN   \n",
       "77378                   NaN              Central                     NaN   \n",
       "77379                   NaN                  NaN                     NaN   \n",
       "\n",
       "       buildingclassdesc        propertylandusedesc  storydesc  \\\n",
       "0                    NaN  Single Family Residential        NaN   \n",
       "1                    NaN  Single Family Residential        NaN   \n",
       "2                    NaN  Single Family Residential        NaN   \n",
       "3                    NaN  Single Family Residential        NaN   \n",
       "4                    NaN                Condominium        NaN   \n",
       "...                  ...                        ...        ...   \n",
       "77375                NaN                Condominium        NaN   \n",
       "77376                NaN  Single Family Residential        NaN   \n",
       "77377                NaN  Single Family Residential        NaN   \n",
       "77378                NaN  Single Family Residential        NaN   \n",
       "77379                NaN  Single Family Residential        NaN   \n",
       "\n",
       "       heatingorsystemdesc  \n",
       "0                      NaN  \n",
       "1                      NaN  \n",
       "2                      NaN  \n",
       "3                  Central  \n",
       "4                  Central  \n",
       "...                    ...  \n",
       "77375              Central  \n",
       "77376              Central  \n",
       "77377                  NaN  \n",
       "77378              Central  \n",
       "77379              Central  \n",
       "\n",
       "[77380 rows x 68 columns]"
      ]
     },
     "execution_count": 2,
     "metadata": {},
     "output_type": "execute_result"
    }
   ],
   "source": [
    "#acquire data\n",
    "df = wrangle.get_zillow_data()\n",
    "df"
   ]
  },
  {
   "cell_type": "markdown",
   "id": "843fd369",
   "metadata": {},
   "source": [
    "### 2.Summarize your data (summary stats, info, dtypes, shape, distributions, value_counts, etc.)"
   ]
  },
  {
   "cell_type": "code",
   "execution_count": 3,
   "id": "8c0be0fd",
   "metadata": {},
   "outputs": [
    {
     "data": {
      "text/plain": [
       "(77380, 68)"
      ]
     },
     "execution_count": 3,
     "metadata": {},
     "output_type": "execute_result"
    }
   ],
   "source": [
    "#check shape\n",
    "df.shape"
   ]
  },
  {
   "cell_type": "code",
   "execution_count": 4,
   "id": "1f29637d",
   "metadata": {},
   "outputs": [
    {
     "name": "stdout",
     "output_type": "stream",
     "text": [
      "<class 'pandas.core.frame.DataFrame'>\n",
      "Int64Index: 77380 entries, 0 to 77379\n",
      "Data columns (total 68 columns):\n",
      " #   Column                        Non-Null Count  Dtype  \n",
      "---  ------                        --------------  -----  \n",
      " 0   id                            77380 non-null  int64  \n",
      " 1   parcelid                      77380 non-null  int64  \n",
      " 2   airconditioningtypeid         24953 non-null  float64\n",
      " 3   architecturalstyletypeid      206 non-null    float64\n",
      " 4   basementsqft                  50 non-null     float64\n",
      " 5   bathroomcnt                   77380 non-null  float64\n",
      " 6   bedroomcnt                    77380 non-null  float64\n",
      " 7   buildingclasstypeid           15 non-null     float64\n",
      " 8   buildingqualitytypeid         49671 non-null  float64\n",
      " 9   calculatedbathnbr             76771 non-null  float64\n",
      " 10  decktypeid                    614 non-null    float64\n",
      " 11  finishedfloor1squarefeet      6023 non-null   float64\n",
      " 12  calculatedfinishedsquarefeet  77184 non-null  float64\n",
      " 13  finishedsquarefeet12          73748 non-null  float64\n",
      " 14  finishedsquarefeet13          41 non-null     float64\n",
      " 15  finishedsquarefeet15          3009 non-null   float64\n",
      " 16  finishedsquarefeet50          6023 non-null   float64\n",
      " 17  finishedsquarefeet6           386 non-null    float64\n",
      " 18  fips                          77380 non-null  float64\n",
      " 19  fireplacecnt                  8276 non-null   float64\n",
      " 20  fullbathcnt                   76771 non-null  float64\n",
      " 21  garagecarcnt                  25474 non-null  float64\n",
      " 22  garagetotalsqft               25474 non-null  float64\n",
      " 23  hashottuborspa                1538 non-null   float64\n",
      " 24  heatingorsystemtypeid         49439 non-null  float64\n",
      " 25  latitude                      77380 non-null  float64\n",
      " 26  longitude                     77380 non-null  float64\n",
      " 27  lotsizesquarefeet             69141 non-null  float64\n",
      " 28  poolcnt                       16137 non-null  float64\n",
      " 29  poolsizesum                   867 non-null    float64\n",
      " 30  pooltypeid10                  464 non-null    float64\n",
      " 31  pooltypeid2                   1074 non-null   float64\n",
      " 32  pooltypeid7                   15042 non-null  float64\n",
      " 33  propertycountylandusecode     77380 non-null  object \n",
      " 34  propertylandusetypeid         77380 non-null  float64\n",
      " 35  propertyzoningdesc            50330 non-null  object \n",
      " 36  rawcensustractandblock        77380 non-null  float64\n",
      " 37  regionidcity                  75909 non-null  float64\n",
      " 38  regionidcounty                77380 non-null  float64\n",
      " 39  regionidneighborhood          30890 non-null  float64\n",
      " 40  regionidzip                   77330 non-null  float64\n",
      " 41  roomcnt                       77380 non-null  float64\n",
      " 42  storytypeid                   50 non-null     float64\n",
      " 43  threequarterbathnbr           10096 non-null  float64\n",
      " 44  typeconstructiontypeid        222 non-null    float64\n",
      " 45  unitcnt                       50562 non-null  float64\n",
      " 46  yardbuildingsqft17            2388 non-null   float64\n",
      " 47  yardbuildingsqft26            70 non-null     float64\n",
      " 48  yearbuilt                     77117 non-null  float64\n",
      " 49  numberofstories               17560 non-null  float64\n",
      " 50  fireplaceflag                 172 non-null    float64\n",
      " 51  structuretaxvaluedollarcnt    77268 non-null  float64\n",
      " 52  taxvaluedollarcnt             77379 non-null  float64\n",
      " 53  assessmentyear                77380 non-null  float64\n",
      " 54  landtaxvaluedollarcnt         77378 non-null  float64\n",
      " 55  taxamount                     77375 non-null  float64\n",
      " 56  taxdelinquencyflag            2886 non-null   object \n",
      " 57  taxdelinquencyyear            2886 non-null   float64\n",
      " 58  censustractandblock           77136 non-null  float64\n",
      " 59  logerror                      77380 non-null  float64\n",
      " 60  transactiondate               77380 non-null  object \n",
      " 61  typeconstructiondesc          222 non-null    object \n",
      " 62  airconditioningdesc           24953 non-null  object \n",
      " 63  architecturalstyledesc        206 non-null    object \n",
      " 64  buildingclassdesc             15 non-null     object \n",
      " 65  propertylandusedesc           77380 non-null  object \n",
      " 66  storydesc                     50 non-null     object \n",
      " 67  heatingorsystemdesc           49439 non-null  object \n",
      "dtypes: float64(55), int64(2), object(11)\n",
      "memory usage: 40.7+ MB\n"
     ]
    }
   ],
   "source": [
    "#show info with count\n",
    "df.info()\n"
   ]
  },
  {
   "cell_type": "code",
   "execution_count": 5,
   "id": "bce7e980",
   "metadata": {},
   "outputs": [
    {
     "data": {
      "text/html": [
       "<div>\n",
       "<style scoped>\n",
       "    .dataframe tbody tr th:only-of-type {\n",
       "        vertical-align: middle;\n",
       "    }\n",
       "\n",
       "    .dataframe tbody tr th {\n",
       "        vertical-align: top;\n",
       "    }\n",
       "\n",
       "    .dataframe thead th {\n",
       "        text-align: right;\n",
       "    }\n",
       "</style>\n",
       "<table border=\"1\" class=\"dataframe\">\n",
       "  <thead>\n",
       "    <tr style=\"text-align: right;\">\n",
       "      <th></th>\n",
       "      <th>count</th>\n",
       "      <th>mean</th>\n",
       "      <th>std</th>\n",
       "      <th>min</th>\n",
       "      <th>25%</th>\n",
       "      <th>50%</th>\n",
       "      <th>75%</th>\n",
       "      <th>max</th>\n",
       "    </tr>\n",
       "  </thead>\n",
       "  <tbody>\n",
       "    <tr>\n",
       "      <th>id</th>\n",
       "      <td>77,380.00</td>\n",
       "      <td>1,495,126.49</td>\n",
       "      <td>860,905.69</td>\n",
       "      <td>349.00</td>\n",
       "      <td>752,050.00</td>\n",
       "      <td>1,497,870.00</td>\n",
       "      <td>2,240,480.25</td>\n",
       "      <td>2,982,274.00</td>\n",
       "    </tr>\n",
       "    <tr>\n",
       "      <th>parcelid</th>\n",
       "      <td>77,380.00</td>\n",
       "      <td>13,007,149.52</td>\n",
       "      <td>3,481,368.13</td>\n",
       "      <td>10,711,855.00</td>\n",
       "      <td>11,538,296.75</td>\n",
       "      <td>12,531,548.50</td>\n",
       "      <td>14,211,843.75</td>\n",
       "      <td>167,689,317.00</td>\n",
       "    </tr>\n",
       "    <tr>\n",
       "      <th>airconditioningtypeid</th>\n",
       "      <td>24,953.00</td>\n",
       "      <td>1.81</td>\n",
       "      <td>2.97</td>\n",
       "      <td>1.00</td>\n",
       "      <td>1.00</td>\n",
       "      <td>1.00</td>\n",
       "      <td>1.00</td>\n",
       "      <td>13.00</td>\n",
       "    </tr>\n",
       "    <tr>\n",
       "      <th>architecturalstyletypeid</th>\n",
       "      <td>206.00</td>\n",
       "      <td>7.39</td>\n",
       "      <td>2.73</td>\n",
       "      <td>2.00</td>\n",
       "      <td>7.00</td>\n",
       "      <td>7.00</td>\n",
       "      <td>7.00</td>\n",
       "      <td>21.00</td>\n",
       "    </tr>\n",
       "    <tr>\n",
       "      <th>basementsqft</th>\n",
       "      <td>50.00</td>\n",
       "      <td>679.72</td>\n",
       "      <td>689.70</td>\n",
       "      <td>38.00</td>\n",
       "      <td>273.00</td>\n",
       "      <td>515.00</td>\n",
       "      <td>796.50</td>\n",
       "      <td>3,560.00</td>\n",
       "    </tr>\n",
       "    <tr>\n",
       "      <th>bathroomcnt</th>\n",
       "      <td>77,380.00</td>\n",
       "      <td>2.30</td>\n",
       "      <td>1.00</td>\n",
       "      <td>0.00</td>\n",
       "      <td>2.00</td>\n",
       "      <td>2.00</td>\n",
       "      <td>3.00</td>\n",
       "      <td>18.00</td>\n",
       "    </tr>\n",
       "    <tr>\n",
       "      <th>bedroomcnt</th>\n",
       "      <td>77,380.00</td>\n",
       "      <td>3.05</td>\n",
       "      <td>1.14</td>\n",
       "      <td>0.00</td>\n",
       "      <td>2.00</td>\n",
       "      <td>3.00</td>\n",
       "      <td>4.00</td>\n",
       "      <td>16.00</td>\n",
       "    </tr>\n",
       "    <tr>\n",
       "      <th>buildingclasstypeid</th>\n",
       "      <td>15.00</td>\n",
       "      <td>3.93</td>\n",
       "      <td>0.26</td>\n",
       "      <td>3.00</td>\n",
       "      <td>4.00</td>\n",
       "      <td>4.00</td>\n",
       "      <td>4.00</td>\n",
       "      <td>4.00</td>\n",
       "    </tr>\n",
       "    <tr>\n",
       "      <th>buildingqualitytypeid</th>\n",
       "      <td>49,671.00</td>\n",
       "      <td>6.53</td>\n",
       "      <td>1.72</td>\n",
       "      <td>1.00</td>\n",
       "      <td>6.00</td>\n",
       "      <td>6.00</td>\n",
       "      <td>8.00</td>\n",
       "      <td>12.00</td>\n",
       "    </tr>\n",
       "    <tr>\n",
       "      <th>calculatedbathnbr</th>\n",
       "      <td>76,771.00</td>\n",
       "      <td>2.32</td>\n",
       "      <td>0.98</td>\n",
       "      <td>1.00</td>\n",
       "      <td>2.00</td>\n",
       "      <td>2.00</td>\n",
       "      <td>3.00</td>\n",
       "      <td>18.00</td>\n",
       "    </tr>\n",
       "    <tr>\n",
       "      <th>decktypeid</th>\n",
       "      <td>614.00</td>\n",
       "      <td>66.00</td>\n",
       "      <td>0.00</td>\n",
       "      <td>66.00</td>\n",
       "      <td>66.00</td>\n",
       "      <td>66.00</td>\n",
       "      <td>66.00</td>\n",
       "      <td>66.00</td>\n",
       "    </tr>\n",
       "    <tr>\n",
       "      <th>finishedfloor1squarefeet</th>\n",
       "      <td>6,023.00</td>\n",
       "      <td>1,366.51</td>\n",
       "      <td>671.31</td>\n",
       "      <td>44.00</td>\n",
       "      <td>955.00</td>\n",
       "      <td>1,257.00</td>\n",
       "      <td>1,615.00</td>\n",
       "      <td>6,912.00</td>\n",
       "    </tr>\n",
       "    <tr>\n",
       "      <th>calculatedfinishedsquarefeet</th>\n",
       "      <td>77,184.00</td>\n",
       "      <td>1,785.23</td>\n",
       "      <td>954.05</td>\n",
       "      <td>128.00</td>\n",
       "      <td>1,182.00</td>\n",
       "      <td>1,543.00</td>\n",
       "      <td>2,113.00</td>\n",
       "      <td>35,640.00</td>\n",
       "    </tr>\n",
       "    <tr>\n",
       "      <th>finishedsquarefeet12</th>\n",
       "      <td>73,748.00</td>\n",
       "      <td>1,760.53</td>\n",
       "      <td>934.03</td>\n",
       "      <td>128.00</td>\n",
       "      <td>1,172.00</td>\n",
       "      <td>1,523.00</td>\n",
       "      <td>2,076.00</td>\n",
       "      <td>21,929.00</td>\n",
       "    </tr>\n",
       "    <tr>\n",
       "      <th>finishedsquarefeet13</th>\n",
       "      <td>41.00</td>\n",
       "      <td>1,389.85</td>\n",
       "      <td>123.53</td>\n",
       "      <td>1,056.00</td>\n",
       "      <td>1,344.00</td>\n",
       "      <td>1,440.00</td>\n",
       "      <td>1,440.00</td>\n",
       "      <td>1,560.00</td>\n",
       "    </tr>\n",
       "    <tr>\n",
       "      <th>finishedsquarefeet15</th>\n",
       "      <td>3,009.00</td>\n",
       "      <td>2,357.79</td>\n",
       "      <td>1,188.78</td>\n",
       "      <td>598.00</td>\n",
       "      <td>1,625.00</td>\n",
       "      <td>2,094.00</td>\n",
       "      <td>2,838.00</td>\n",
       "      <td>35,640.00</td>\n",
       "    </tr>\n",
       "    <tr>\n",
       "      <th>finishedsquarefeet50</th>\n",
       "      <td>6,023.00</td>\n",
       "      <td>1,381.77</td>\n",
       "      <td>726.47</td>\n",
       "      <td>44.00</td>\n",
       "      <td>956.00</td>\n",
       "      <td>1,259.00</td>\n",
       "      <td>1,621.50</td>\n",
       "      <td>12,467.00</td>\n",
       "    </tr>\n",
       "    <tr>\n",
       "      <th>finishedsquarefeet6</th>\n",
       "      <td>386.00</td>\n",
       "      <td>2,082.50</td>\n",
       "      <td>1,240.38</td>\n",
       "      <td>380.00</td>\n",
       "      <td>993.75</td>\n",
       "      <td>1,812.50</td>\n",
       "      <td>3,053.50</td>\n",
       "      <td>5,598.00</td>\n",
       "    </tr>\n",
       "    <tr>\n",
       "      <th>fips</th>\n",
       "      <td>77,380.00</td>\n",
       "      <td>6,048.82</td>\n",
       "      <td>20.75</td>\n",
       "      <td>6,037.00</td>\n",
       "      <td>6,037.00</td>\n",
       "      <td>6,037.00</td>\n",
       "      <td>6,059.00</td>\n",
       "      <td>6,111.00</td>\n",
       "    </tr>\n",
       "    <tr>\n",
       "      <th>fireplacecnt</th>\n",
       "      <td>8,276.00</td>\n",
       "      <td>1.19</td>\n",
       "      <td>0.49</td>\n",
       "      <td>1.00</td>\n",
       "      <td>1.00</td>\n",
       "      <td>1.00</td>\n",
       "      <td>1.00</td>\n",
       "      <td>5.00</td>\n",
       "    </tr>\n",
       "    <tr>\n",
       "      <th>fullbathcnt</th>\n",
       "      <td>76,771.00</td>\n",
       "      <td>2.25</td>\n",
       "      <td>0.97</td>\n",
       "      <td>1.00</td>\n",
       "      <td>2.00</td>\n",
       "      <td>2.00</td>\n",
       "      <td>3.00</td>\n",
       "      <td>18.00</td>\n",
       "    </tr>\n",
       "    <tr>\n",
       "      <th>garagecarcnt</th>\n",
       "      <td>25,474.00</td>\n",
       "      <td>1.82</td>\n",
       "      <td>0.59</td>\n",
       "      <td>0.00</td>\n",
       "      <td>2.00</td>\n",
       "      <td>2.00</td>\n",
       "      <td>2.00</td>\n",
       "      <td>14.00</td>\n",
       "    </tr>\n",
       "    <tr>\n",
       "      <th>garagetotalsqft</th>\n",
       "      <td>25,474.00</td>\n",
       "      <td>350.11</td>\n",
       "      <td>261.68</td>\n",
       "      <td>0.00</td>\n",
       "      <td>0.00</td>\n",
       "      <td>436.00</td>\n",
       "      <td>493.00</td>\n",
       "      <td>4,251.00</td>\n",
       "    </tr>\n",
       "    <tr>\n",
       "      <th>hashottuborspa</th>\n",
       "      <td>1,538.00</td>\n",
       "      <td>1.00</td>\n",
       "      <td>0.00</td>\n",
       "      <td>1.00</td>\n",
       "      <td>1.00</td>\n",
       "      <td>1.00</td>\n",
       "      <td>1.00</td>\n",
       "      <td>1.00</td>\n",
       "    </tr>\n",
       "    <tr>\n",
       "      <th>heatingorsystemtypeid</th>\n",
       "      <td>49,439.00</td>\n",
       "      <td>3.92</td>\n",
       "      <td>3.59</td>\n",
       "      <td>1.00</td>\n",
       "      <td>2.00</td>\n",
       "      <td>2.00</td>\n",
       "      <td>7.00</td>\n",
       "      <td>24.00</td>\n",
       "    </tr>\n",
       "    <tr>\n",
       "      <th>latitude</th>\n",
       "      <td>77,380.00</td>\n",
       "      <td>34,008,372.33</td>\n",
       "      <td>265,390.52</td>\n",
       "      <td>33,339,527.00</td>\n",
       "      <td>33,814,569.00</td>\n",
       "      <td>34,022,000.00</td>\n",
       "      <td>34,174,390.00</td>\n",
       "      <td>34,818,767.00</td>\n",
       "    </tr>\n",
       "    <tr>\n",
       "      <th>longitude</th>\n",
       "      <td>77,380.00</td>\n",
       "      <td>-118,203,638.35</td>\n",
       "      <td>359,483.31</td>\n",
       "      <td>-119,475,416.00</td>\n",
       "      <td>-118,415,280.50</td>\n",
       "      <td>-118,180,816.50</td>\n",
       "      <td>-117,928,425.25</td>\n",
       "      <td>-117,554,636.00</td>\n",
       "    </tr>\n",
       "    <tr>\n",
       "      <th>lotsizesquarefeet</th>\n",
       "      <td>69,141.00</td>\n",
       "      <td>29,969.63</td>\n",
       "      <td>123,371.93</td>\n",
       "      <td>236.00</td>\n",
       "      <td>5,700.00</td>\n",
       "      <td>7,206.00</td>\n",
       "      <td>11,831.00</td>\n",
       "      <td>6,971,010.00</td>\n",
       "    </tr>\n",
       "    <tr>\n",
       "      <th>poolcnt</th>\n",
       "      <td>16,137.00</td>\n",
       "      <td>1.00</td>\n",
       "      <td>0.00</td>\n",
       "      <td>1.00</td>\n",
       "      <td>1.00</td>\n",
       "      <td>1.00</td>\n",
       "      <td>1.00</td>\n",
       "      <td>1.00</td>\n",
       "    </tr>\n",
       "    <tr>\n",
       "      <th>poolsizesum</th>\n",
       "      <td>867.00</td>\n",
       "      <td>517.92</td>\n",
       "      <td>156.72</td>\n",
       "      <td>24.00</td>\n",
       "      <td>424.00</td>\n",
       "      <td>500.00</td>\n",
       "      <td>600.00</td>\n",
       "      <td>1,500.00</td>\n",
       "    </tr>\n",
       "    <tr>\n",
       "      <th>pooltypeid10</th>\n",
       "      <td>464.00</td>\n",
       "      <td>1.00</td>\n",
       "      <td>0.00</td>\n",
       "      <td>1.00</td>\n",
       "      <td>1.00</td>\n",
       "      <td>1.00</td>\n",
       "      <td>1.00</td>\n",
       "      <td>1.00</td>\n",
       "    </tr>\n",
       "    <tr>\n",
       "      <th>pooltypeid2</th>\n",
       "      <td>1,074.00</td>\n",
       "      <td>1.00</td>\n",
       "      <td>0.00</td>\n",
       "      <td>1.00</td>\n",
       "      <td>1.00</td>\n",
       "      <td>1.00</td>\n",
       "      <td>1.00</td>\n",
       "      <td>1.00</td>\n",
       "    </tr>\n",
       "    <tr>\n",
       "      <th>pooltypeid7</th>\n",
       "      <td>15,042.00</td>\n",
       "      <td>1.00</td>\n",
       "      <td>0.00</td>\n",
       "      <td>1.00</td>\n",
       "      <td>1.00</td>\n",
       "      <td>1.00</td>\n",
       "      <td>1.00</td>\n",
       "      <td>1.00</td>\n",
       "    </tr>\n",
       "    <tr>\n",
       "      <th>propertylandusetypeid</th>\n",
       "      <td>77,380.00</td>\n",
       "      <td>261.83</td>\n",
       "      <td>5.14</td>\n",
       "      <td>31.00</td>\n",
       "      <td>261.00</td>\n",
       "      <td>261.00</td>\n",
       "      <td>266.00</td>\n",
       "      <td>275.00</td>\n",
       "    </tr>\n",
       "    <tr>\n",
       "      <th>rawcensustractandblock</th>\n",
       "      <td>77,380.00</td>\n",
       "      <td>60,491,296.47</td>\n",
       "      <td>205,906.13</td>\n",
       "      <td>60,371,011.10</td>\n",
       "      <td>60,373,109.00</td>\n",
       "      <td>60,376,032.00</td>\n",
       "      <td>60,590,423.25</td>\n",
       "      <td>61,110,091.00</td>\n",
       "    </tr>\n",
       "    <tr>\n",
       "      <th>regionidcity</th>\n",
       "      <td>75,909.00</td>\n",
       "      <td>33,670.13</td>\n",
       "      <td>47,169.13</td>\n",
       "      <td>3,491.00</td>\n",
       "      <td>12,447.00</td>\n",
       "      <td>25,218.00</td>\n",
       "      <td>45,457.00</td>\n",
       "      <td>396,556.00</td>\n",
       "    </tr>\n",
       "    <tr>\n",
       "      <th>regionidcounty</th>\n",
       "      <td>77,380.00</td>\n",
       "      <td>2,534.15</td>\n",
       "      <td>801.60</td>\n",
       "      <td>1,286.00</td>\n",
       "      <td>1,286.00</td>\n",
       "      <td>3,101.00</td>\n",
       "      <td>3,101.00</td>\n",
       "      <td>3,101.00</td>\n",
       "    </tr>\n",
       "    <tr>\n",
       "      <th>regionidneighborhood</th>\n",
       "      <td>30,890.00</td>\n",
       "      <td>187,734.86</td>\n",
       "      <td>165,118.79</td>\n",
       "      <td>6,952.00</td>\n",
       "      <td>46,736.00</td>\n",
       "      <td>118,849.00</td>\n",
       "      <td>274,765.00</td>\n",
       "      <td>764,167.00</td>\n",
       "    </tr>\n",
       "    <tr>\n",
       "      <th>regionidzip</th>\n",
       "      <td>77,330.00</td>\n",
       "      <td>96,587.09</td>\n",
       "      <td>3,798.37</td>\n",
       "      <td>95,982.00</td>\n",
       "      <td>96,193.00</td>\n",
       "      <td>96,389.00</td>\n",
       "      <td>96,987.00</td>\n",
       "      <td>399,675.00</td>\n",
       "    </tr>\n",
       "    <tr>\n",
       "      <th>roomcnt</th>\n",
       "      <td>77,380.00</td>\n",
       "      <td>1.48</td>\n",
       "      <td>2.82</td>\n",
       "      <td>0.00</td>\n",
       "      <td>0.00</td>\n",
       "      <td>0.00</td>\n",
       "      <td>0.00</td>\n",
       "      <td>15.00</td>\n",
       "    </tr>\n",
       "    <tr>\n",
       "      <th>storytypeid</th>\n",
       "      <td>50.00</td>\n",
       "      <td>7.00</td>\n",
       "      <td>0.00</td>\n",
       "      <td>7.00</td>\n",
       "      <td>7.00</td>\n",
       "      <td>7.00</td>\n",
       "      <td>7.00</td>\n",
       "      <td>7.00</td>\n",
       "    </tr>\n",
       "    <tr>\n",
       "      <th>threequarterbathnbr</th>\n",
       "      <td>10,096.00</td>\n",
       "      <td>1.01</td>\n",
       "      <td>0.12</td>\n",
       "      <td>1.00</td>\n",
       "      <td>1.00</td>\n",
       "      <td>1.00</td>\n",
       "      <td>1.00</td>\n",
       "      <td>7.00</td>\n",
       "    </tr>\n",
       "    <tr>\n",
       "      <th>typeconstructiontypeid</th>\n",
       "      <td>222.00</td>\n",
       "      <td>6.04</td>\n",
       "      <td>0.56</td>\n",
       "      <td>4.00</td>\n",
       "      <td>6.00</td>\n",
       "      <td>6.00</td>\n",
       "      <td>6.00</td>\n",
       "      <td>13.00</td>\n",
       "    </tr>\n",
       "    <tr>\n",
       "      <th>unitcnt</th>\n",
       "      <td>50,562.00</td>\n",
       "      <td>1.11</td>\n",
       "      <td>1.17</td>\n",
       "      <td>1.00</td>\n",
       "      <td>1.00</td>\n",
       "      <td>1.00</td>\n",
       "      <td>1.00</td>\n",
       "      <td>237.00</td>\n",
       "    </tr>\n",
       "    <tr>\n",
       "      <th>yardbuildingsqft17</th>\n",
       "      <td>2,388.00</td>\n",
       "      <td>305.41</td>\n",
       "      <td>238.39</td>\n",
       "      <td>11.00</td>\n",
       "      <td>170.00</td>\n",
       "      <td>251.00</td>\n",
       "      <td>364.00</td>\n",
       "      <td>3,191.00</td>\n",
       "    </tr>\n",
       "    <tr>\n",
       "      <th>yardbuildingsqft26</th>\n",
       "      <td>70.00</td>\n",
       "      <td>216.39</td>\n",
       "      <td>190.18</td>\n",
       "      <td>12.00</td>\n",
       "      <td>61.50</td>\n",
       "      <td>164.50</td>\n",
       "      <td>310.50</td>\n",
       "      <td>868.00</td>\n",
       "    </tr>\n",
       "    <tr>\n",
       "      <th>yearbuilt</th>\n",
       "      <td>77,117.00</td>\n",
       "      <td>1,968.64</td>\n",
       "      <td>23.79</td>\n",
       "      <td>1,824.00</td>\n",
       "      <td>1,953.00</td>\n",
       "      <td>1,970.00</td>\n",
       "      <td>1,987.00</td>\n",
       "      <td>2,016.00</td>\n",
       "    </tr>\n",
       "    <tr>\n",
       "      <th>numberofstories</th>\n",
       "      <td>17,560.00</td>\n",
       "      <td>1.43</td>\n",
       "      <td>0.54</td>\n",
       "      <td>1.00</td>\n",
       "      <td>1.00</td>\n",
       "      <td>1.00</td>\n",
       "      <td>2.00</td>\n",
       "      <td>6.00</td>\n",
       "    </tr>\n",
       "    <tr>\n",
       "      <th>fireplaceflag</th>\n",
       "      <td>172.00</td>\n",
       "      <td>1.00</td>\n",
       "      <td>0.00</td>\n",
       "      <td>1.00</td>\n",
       "      <td>1.00</td>\n",
       "      <td>1.00</td>\n",
       "      <td>1.00</td>\n",
       "      <td>1.00</td>\n",
       "    </tr>\n",
       "    <tr>\n",
       "      <th>structuretaxvaluedollarcnt</th>\n",
       "      <td>77,268.00</td>\n",
       "      <td>189,315.98</td>\n",
       "      <td>230,088.56</td>\n",
       "      <td>44.00</td>\n",
       "      <td>84,265.00</td>\n",
       "      <td>136,499.50</td>\n",
       "      <td>218,787.50</td>\n",
       "      <td>11,421,790.00</td>\n",
       "    </tr>\n",
       "    <tr>\n",
       "      <th>taxvaluedollarcnt</th>\n",
       "      <td>77,379.00</td>\n",
       "      <td>490,137.46</td>\n",
       "      <td>653,447.67</td>\n",
       "      <td>1,000.00</td>\n",
       "      <td>207,000.00</td>\n",
       "      <td>358,976.00</td>\n",
       "      <td>569,003.00</td>\n",
       "      <td>49,061,236.00</td>\n",
       "    </tr>\n",
       "    <tr>\n",
       "      <th>assessmentyear</th>\n",
       "      <td>77,380.00</td>\n",
       "      <td>2,016.00</td>\n",
       "      <td>0.00</td>\n",
       "      <td>2,016.00</td>\n",
       "      <td>2,016.00</td>\n",
       "      <td>2,016.00</td>\n",
       "      <td>2,016.00</td>\n",
       "      <td>2,016.00</td>\n",
       "    </tr>\n",
       "    <tr>\n",
       "      <th>landtaxvaluedollarcnt</th>\n",
       "      <td>77,378.00</td>\n",
       "      <td>301,096.94</td>\n",
       "      <td>492,599.03</td>\n",
       "      <td>161.00</td>\n",
       "      <td>85,504.00</td>\n",
       "      <td>203,383.50</td>\n",
       "      <td>366,802.25</td>\n",
       "      <td>48,952,198.00</td>\n",
       "    </tr>\n",
       "    <tr>\n",
       "      <th>taxamount</th>\n",
       "      <td>77,375.00</td>\n",
       "      <td>5,995.57</td>\n",
       "      <td>7,622.89</td>\n",
       "      <td>19.92</td>\n",
       "      <td>2,715.59</td>\n",
       "      <td>4,450.72</td>\n",
       "      <td>6,927.80</td>\n",
       "      <td>586,639.30</td>\n",
       "    </tr>\n",
       "    <tr>\n",
       "      <th>taxdelinquencyyear</th>\n",
       "      <td>2,886.00</td>\n",
       "      <td>14.09</td>\n",
       "      <td>2.19</td>\n",
       "      <td>3.00</td>\n",
       "      <td>14.00</td>\n",
       "      <td>15.00</td>\n",
       "      <td>15.00</td>\n",
       "      <td>99.00</td>\n",
       "    </tr>\n",
       "    <tr>\n",
       "      <th>censustractandblock</th>\n",
       "      <td>77,136.00</td>\n",
       "      <td>60,496,735,236,341.99</td>\n",
       "      <td>1,535,251,869,244.56</td>\n",
       "      <td>60,371,011,101,000.00</td>\n",
       "      <td>60,373,109,005,001.75</td>\n",
       "      <td>60,376,032,003,008.00</td>\n",
       "      <td>60,590,423,251,008.00</td>\n",
       "      <td>483,030,105,084,015.00</td>\n",
       "    </tr>\n",
       "    <tr>\n",
       "      <th>logerror</th>\n",
       "      <td>77,380.00</td>\n",
       "      <td>0.02</td>\n",
       "      <td>0.17</td>\n",
       "      <td>-4.66</td>\n",
       "      <td>-0.02</td>\n",
       "      <td>0.01</td>\n",
       "      <td>0.04</td>\n",
       "      <td>5.26</td>\n",
       "    </tr>\n",
       "  </tbody>\n",
       "</table>\n",
       "</div>"
      ],
      "text/plain": [
       "                                            count                  mean  \\\n",
       "id                                      77,380.00          1,495,126.49   \n",
       "parcelid                                77,380.00         13,007,149.52   \n",
       "airconditioningtypeid                   24,953.00                  1.81   \n",
       "architecturalstyletypeid                   206.00                  7.39   \n",
       "basementsqft                                50.00                679.72   \n",
       "bathroomcnt                             77,380.00                  2.30   \n",
       "bedroomcnt                              77,380.00                  3.05   \n",
       "buildingclasstypeid                         15.00                  3.93   \n",
       "buildingqualitytypeid                   49,671.00                  6.53   \n",
       "calculatedbathnbr                       76,771.00                  2.32   \n",
       "decktypeid                                 614.00                 66.00   \n",
       "finishedfloor1squarefeet                 6,023.00              1,366.51   \n",
       "calculatedfinishedsquarefeet            77,184.00              1,785.23   \n",
       "finishedsquarefeet12                    73,748.00              1,760.53   \n",
       "finishedsquarefeet13                        41.00              1,389.85   \n",
       "finishedsquarefeet15                     3,009.00              2,357.79   \n",
       "finishedsquarefeet50                     6,023.00              1,381.77   \n",
       "finishedsquarefeet6                        386.00              2,082.50   \n",
       "fips                                    77,380.00              6,048.82   \n",
       "fireplacecnt                             8,276.00                  1.19   \n",
       "fullbathcnt                             76,771.00                  2.25   \n",
       "garagecarcnt                            25,474.00                  1.82   \n",
       "garagetotalsqft                         25,474.00                350.11   \n",
       "hashottuborspa                           1,538.00                  1.00   \n",
       "heatingorsystemtypeid                   49,439.00                  3.92   \n",
       "latitude                                77,380.00         34,008,372.33   \n",
       "longitude                               77,380.00       -118,203,638.35   \n",
       "lotsizesquarefeet                       69,141.00             29,969.63   \n",
       "poolcnt                                 16,137.00                  1.00   \n",
       "poolsizesum                                867.00                517.92   \n",
       "pooltypeid10                               464.00                  1.00   \n",
       "pooltypeid2                              1,074.00                  1.00   \n",
       "pooltypeid7                             15,042.00                  1.00   \n",
       "propertylandusetypeid                   77,380.00                261.83   \n",
       "rawcensustractandblock                  77,380.00         60,491,296.47   \n",
       "regionidcity                            75,909.00             33,670.13   \n",
       "regionidcounty                          77,380.00              2,534.15   \n",
       "regionidneighborhood                    30,890.00            187,734.86   \n",
       "regionidzip                             77,330.00             96,587.09   \n",
       "roomcnt                                 77,380.00                  1.48   \n",
       "storytypeid                                 50.00                  7.00   \n",
       "threequarterbathnbr                     10,096.00                  1.01   \n",
       "typeconstructiontypeid                     222.00                  6.04   \n",
       "unitcnt                                 50,562.00                  1.11   \n",
       "yardbuildingsqft17                       2,388.00                305.41   \n",
       "yardbuildingsqft26                          70.00                216.39   \n",
       "yearbuilt                               77,117.00              1,968.64   \n",
       "numberofstories                         17,560.00                  1.43   \n",
       "fireplaceflag                              172.00                  1.00   \n",
       "structuretaxvaluedollarcnt              77,268.00            189,315.98   \n",
       "taxvaluedollarcnt                       77,379.00            490,137.46   \n",
       "assessmentyear                          77,380.00              2,016.00   \n",
       "landtaxvaluedollarcnt                   77,378.00            301,096.94   \n",
       "taxamount                               77,375.00              5,995.57   \n",
       "taxdelinquencyyear                       2,886.00                 14.09   \n",
       "censustractandblock                     77,136.00 60,496,735,236,341.99   \n",
       "logerror                                77,380.00                  0.02   \n",
       "\n",
       "                                              std                   min  \\\n",
       "id                                     860,905.69                349.00   \n",
       "parcelid                             3,481,368.13         10,711,855.00   \n",
       "airconditioningtypeid                        2.97                  1.00   \n",
       "architecturalstyletypeid                     2.73                  2.00   \n",
       "basementsqft                               689.70                 38.00   \n",
       "bathroomcnt                                  1.00                  0.00   \n",
       "bedroomcnt                                   1.14                  0.00   \n",
       "buildingclasstypeid                          0.26                  3.00   \n",
       "buildingqualitytypeid                        1.72                  1.00   \n",
       "calculatedbathnbr                            0.98                  1.00   \n",
       "decktypeid                                   0.00                 66.00   \n",
       "finishedfloor1squarefeet                   671.31                 44.00   \n",
       "calculatedfinishedsquarefeet               954.05                128.00   \n",
       "finishedsquarefeet12                       934.03                128.00   \n",
       "finishedsquarefeet13                       123.53              1,056.00   \n",
       "finishedsquarefeet15                     1,188.78                598.00   \n",
       "finishedsquarefeet50                       726.47                 44.00   \n",
       "finishedsquarefeet6                      1,240.38                380.00   \n",
       "fips                                        20.75              6,037.00   \n",
       "fireplacecnt                                 0.49                  1.00   \n",
       "fullbathcnt                                  0.97                  1.00   \n",
       "garagecarcnt                                 0.59                  0.00   \n",
       "garagetotalsqft                            261.68                  0.00   \n",
       "hashottuborspa                               0.00                  1.00   \n",
       "heatingorsystemtypeid                        3.59                  1.00   \n",
       "latitude                               265,390.52         33,339,527.00   \n",
       "longitude                              359,483.31       -119,475,416.00   \n",
       "lotsizesquarefeet                      123,371.93                236.00   \n",
       "poolcnt                                      0.00                  1.00   \n",
       "poolsizesum                                156.72                 24.00   \n",
       "pooltypeid10                                 0.00                  1.00   \n",
       "pooltypeid2                                  0.00                  1.00   \n",
       "pooltypeid7                                  0.00                  1.00   \n",
       "propertylandusetypeid                        5.14                 31.00   \n",
       "rawcensustractandblock                 205,906.13         60,371,011.10   \n",
       "regionidcity                            47,169.13              3,491.00   \n",
       "regionidcounty                             801.60              1,286.00   \n",
       "regionidneighborhood                   165,118.79              6,952.00   \n",
       "regionidzip                              3,798.37             95,982.00   \n",
       "roomcnt                                      2.82                  0.00   \n",
       "storytypeid                                  0.00                  7.00   \n",
       "threequarterbathnbr                          0.12                  1.00   \n",
       "typeconstructiontypeid                       0.56                  4.00   \n",
       "unitcnt                                      1.17                  1.00   \n",
       "yardbuildingsqft17                         238.39                 11.00   \n",
       "yardbuildingsqft26                         190.18                 12.00   \n",
       "yearbuilt                                   23.79              1,824.00   \n",
       "numberofstories                              0.54                  1.00   \n",
       "fireplaceflag                                0.00                  1.00   \n",
       "structuretaxvaluedollarcnt             230,088.56                 44.00   \n",
       "taxvaluedollarcnt                      653,447.67              1,000.00   \n",
       "assessmentyear                               0.00              2,016.00   \n",
       "landtaxvaluedollarcnt                  492,599.03                161.00   \n",
       "taxamount                                7,622.89                 19.92   \n",
       "taxdelinquencyyear                           2.19                  3.00   \n",
       "censustractandblock          1,535,251,869,244.56 60,371,011,101,000.00   \n",
       "logerror                                     0.17                 -4.66   \n",
       "\n",
       "                                               25%                   50%  \\\n",
       "id                                      752,050.00          1,497,870.00   \n",
       "parcelid                             11,538,296.75         12,531,548.50   \n",
       "airconditioningtypeid                         1.00                  1.00   \n",
       "architecturalstyletypeid                      7.00                  7.00   \n",
       "basementsqft                                273.00                515.00   \n",
       "bathroomcnt                                   2.00                  2.00   \n",
       "bedroomcnt                                    2.00                  3.00   \n",
       "buildingclasstypeid                           4.00                  4.00   \n",
       "buildingqualitytypeid                         6.00                  6.00   \n",
       "calculatedbathnbr                             2.00                  2.00   \n",
       "decktypeid                                   66.00                 66.00   \n",
       "finishedfloor1squarefeet                    955.00              1,257.00   \n",
       "calculatedfinishedsquarefeet              1,182.00              1,543.00   \n",
       "finishedsquarefeet12                      1,172.00              1,523.00   \n",
       "finishedsquarefeet13                      1,344.00              1,440.00   \n",
       "finishedsquarefeet15                      1,625.00              2,094.00   \n",
       "finishedsquarefeet50                        956.00              1,259.00   \n",
       "finishedsquarefeet6                         993.75              1,812.50   \n",
       "fips                                      6,037.00              6,037.00   \n",
       "fireplacecnt                                  1.00                  1.00   \n",
       "fullbathcnt                                   2.00                  2.00   \n",
       "garagecarcnt                                  2.00                  2.00   \n",
       "garagetotalsqft                               0.00                436.00   \n",
       "hashottuborspa                                1.00                  1.00   \n",
       "heatingorsystemtypeid                         2.00                  2.00   \n",
       "latitude                             33,814,569.00         34,022,000.00   \n",
       "longitude                          -118,415,280.50       -118,180,816.50   \n",
       "lotsizesquarefeet                         5,700.00              7,206.00   \n",
       "poolcnt                                       1.00                  1.00   \n",
       "poolsizesum                                 424.00                500.00   \n",
       "pooltypeid10                                  1.00                  1.00   \n",
       "pooltypeid2                                   1.00                  1.00   \n",
       "pooltypeid7                                   1.00                  1.00   \n",
       "propertylandusetypeid                       261.00                261.00   \n",
       "rawcensustractandblock               60,373,109.00         60,376,032.00   \n",
       "regionidcity                             12,447.00             25,218.00   \n",
       "regionidcounty                            1,286.00              3,101.00   \n",
       "regionidneighborhood                     46,736.00            118,849.00   \n",
       "regionidzip                              96,193.00             96,389.00   \n",
       "roomcnt                                       0.00                  0.00   \n",
       "storytypeid                                   7.00                  7.00   \n",
       "threequarterbathnbr                           1.00                  1.00   \n",
       "typeconstructiontypeid                        6.00                  6.00   \n",
       "unitcnt                                       1.00                  1.00   \n",
       "yardbuildingsqft17                          170.00                251.00   \n",
       "yardbuildingsqft26                           61.50                164.50   \n",
       "yearbuilt                                 1,953.00              1,970.00   \n",
       "numberofstories                               1.00                  1.00   \n",
       "fireplaceflag                                 1.00                  1.00   \n",
       "structuretaxvaluedollarcnt               84,265.00            136,499.50   \n",
       "taxvaluedollarcnt                       207,000.00            358,976.00   \n",
       "assessmentyear                            2,016.00              2,016.00   \n",
       "landtaxvaluedollarcnt                    85,504.00            203,383.50   \n",
       "taxamount                                 2,715.59              4,450.72   \n",
       "taxdelinquencyyear                           14.00                 15.00   \n",
       "censustractandblock          60,373,109,005,001.75 60,376,032,003,008.00   \n",
       "logerror                                     -0.02                  0.01   \n",
       "\n",
       "                                               75%                    max  \n",
       "id                                    2,240,480.25           2,982,274.00  \n",
       "parcelid                             14,211,843.75         167,689,317.00  \n",
       "airconditioningtypeid                         1.00                  13.00  \n",
       "architecturalstyletypeid                      7.00                  21.00  \n",
       "basementsqft                                796.50               3,560.00  \n",
       "bathroomcnt                                   3.00                  18.00  \n",
       "bedroomcnt                                    4.00                  16.00  \n",
       "buildingclasstypeid                           4.00                   4.00  \n",
       "buildingqualitytypeid                         8.00                  12.00  \n",
       "calculatedbathnbr                             3.00                  18.00  \n",
       "decktypeid                                   66.00                  66.00  \n",
       "finishedfloor1squarefeet                  1,615.00               6,912.00  \n",
       "calculatedfinishedsquarefeet              2,113.00              35,640.00  \n",
       "finishedsquarefeet12                      2,076.00              21,929.00  \n",
       "finishedsquarefeet13                      1,440.00               1,560.00  \n",
       "finishedsquarefeet15                      2,838.00              35,640.00  \n",
       "finishedsquarefeet50                      1,621.50              12,467.00  \n",
       "finishedsquarefeet6                       3,053.50               5,598.00  \n",
       "fips                                      6,059.00               6,111.00  \n",
       "fireplacecnt                                  1.00                   5.00  \n",
       "fullbathcnt                                   3.00                  18.00  \n",
       "garagecarcnt                                  2.00                  14.00  \n",
       "garagetotalsqft                             493.00               4,251.00  \n",
       "hashottuborspa                                1.00                   1.00  \n",
       "heatingorsystemtypeid                         7.00                  24.00  \n",
       "latitude                             34,174,390.00          34,818,767.00  \n",
       "longitude                          -117,928,425.25        -117,554,636.00  \n",
       "lotsizesquarefeet                        11,831.00           6,971,010.00  \n",
       "poolcnt                                       1.00                   1.00  \n",
       "poolsizesum                                 600.00               1,500.00  \n",
       "pooltypeid10                                  1.00                   1.00  \n",
       "pooltypeid2                                   1.00                   1.00  \n",
       "pooltypeid7                                   1.00                   1.00  \n",
       "propertylandusetypeid                       266.00                 275.00  \n",
       "rawcensustractandblock               60,590,423.25          61,110,091.00  \n",
       "regionidcity                             45,457.00             396,556.00  \n",
       "regionidcounty                            3,101.00               3,101.00  \n",
       "regionidneighborhood                    274,765.00             764,167.00  \n",
       "regionidzip                              96,987.00             399,675.00  \n",
       "roomcnt                                       0.00                  15.00  \n",
       "storytypeid                                   7.00                   7.00  \n",
       "threequarterbathnbr                           1.00                   7.00  \n",
       "typeconstructiontypeid                        6.00                  13.00  \n",
       "unitcnt                                       1.00                 237.00  \n",
       "yardbuildingsqft17                          364.00               3,191.00  \n",
       "yardbuildingsqft26                          310.50                 868.00  \n",
       "yearbuilt                                 1,987.00               2,016.00  \n",
       "numberofstories                               2.00                   6.00  \n",
       "fireplaceflag                                 1.00                   1.00  \n",
       "structuretaxvaluedollarcnt              218,787.50          11,421,790.00  \n",
       "taxvaluedollarcnt                       569,003.00          49,061,236.00  \n",
       "assessmentyear                            2,016.00               2,016.00  \n",
       "landtaxvaluedollarcnt                   366,802.25          48,952,198.00  \n",
       "taxamount                                 6,927.80             586,639.30  \n",
       "taxdelinquencyyear                           15.00                  99.00  \n",
       "censustractandblock          60,590,423,251,008.00 483,030,105,084,015.00  \n",
       "logerror                                      0.04                   5.26  "
      ]
     },
     "execution_count": 5,
     "metadata": {},
     "output_type": "execute_result"
    }
   ],
   "source": [
    "#dataframe description\n",
    "df.describe().T"
   ]
  },
  {
   "cell_type": "markdown",
   "id": "abaf36d4",
   "metadata": {},
   "source": [
    "### 3. Write a function that takes in a dataframe of observations and attributes and returns a dataframe where each row is an atttribute name, the first column is the number of rows with missing values for that attribute, and the second column is percent of total rows that have missing values for that attribute. Run the function and document takeaways from this on how you want to handle missing values."
   ]
  },
  {
   "cell_type": "code",
   "execution_count": 6,
   "id": "9ec9f3ce",
   "metadata": {},
   "outputs": [],
   "source": [
    "#function to check null values in columns\n",
    "def summarize_column_nulls(df):\n",
    "    return pd.concat([\n",
    "        df.isnull().sum().rename('num_columns_missing'),\n",
    "        df.isnull().mean().rename('percent_columns_missing')\n",
    "    ], axis = 1)"
   ]
  },
  {
   "cell_type": "code",
   "execution_count": 7,
   "id": "654354e4",
   "metadata": {},
   "outputs": [
    {
     "data": {
      "text/html": [
       "<div>\n",
       "<style scoped>\n",
       "    .dataframe tbody tr th:only-of-type {\n",
       "        vertical-align: middle;\n",
       "    }\n",
       "\n",
       "    .dataframe tbody tr th {\n",
       "        vertical-align: top;\n",
       "    }\n",
       "\n",
       "    .dataframe thead th {\n",
       "        text-align: right;\n",
       "    }\n",
       "</style>\n",
       "<table border=\"1\" class=\"dataframe\">\n",
       "  <thead>\n",
       "    <tr style=\"text-align: right;\">\n",
       "      <th></th>\n",
       "      <th>num_columns_missing</th>\n",
       "      <th>percent_columns_missing</th>\n",
       "    </tr>\n",
       "  </thead>\n",
       "  <tbody>\n",
       "    <tr>\n",
       "      <th>id</th>\n",
       "      <td>0</td>\n",
       "      <td>0.00</td>\n",
       "    </tr>\n",
       "    <tr>\n",
       "      <th>parcelid</th>\n",
       "      <td>0</td>\n",
       "      <td>0.00</td>\n",
       "    </tr>\n",
       "    <tr>\n",
       "      <th>airconditioningtypeid</th>\n",
       "      <td>52427</td>\n",
       "      <td>0.68</td>\n",
       "    </tr>\n",
       "    <tr>\n",
       "      <th>architecturalstyletypeid</th>\n",
       "      <td>77174</td>\n",
       "      <td>1.00</td>\n",
       "    </tr>\n",
       "    <tr>\n",
       "      <th>basementsqft</th>\n",
       "      <td>77330</td>\n",
       "      <td>1.00</td>\n",
       "    </tr>\n",
       "    <tr>\n",
       "      <th>bathroomcnt</th>\n",
       "      <td>0</td>\n",
       "      <td>0.00</td>\n",
       "    </tr>\n",
       "    <tr>\n",
       "      <th>bedroomcnt</th>\n",
       "      <td>0</td>\n",
       "      <td>0.00</td>\n",
       "    </tr>\n",
       "    <tr>\n",
       "      <th>buildingclasstypeid</th>\n",
       "      <td>77365</td>\n",
       "      <td>1.00</td>\n",
       "    </tr>\n",
       "    <tr>\n",
       "      <th>buildingqualitytypeid</th>\n",
       "      <td>27709</td>\n",
       "      <td>0.36</td>\n",
       "    </tr>\n",
       "    <tr>\n",
       "      <th>calculatedbathnbr</th>\n",
       "      <td>609</td>\n",
       "      <td>0.01</td>\n",
       "    </tr>\n",
       "    <tr>\n",
       "      <th>decktypeid</th>\n",
       "      <td>76766</td>\n",
       "      <td>0.99</td>\n",
       "    </tr>\n",
       "    <tr>\n",
       "      <th>finishedfloor1squarefeet</th>\n",
       "      <td>71357</td>\n",
       "      <td>0.92</td>\n",
       "    </tr>\n",
       "    <tr>\n",
       "      <th>calculatedfinishedsquarefeet</th>\n",
       "      <td>196</td>\n",
       "      <td>0.00</td>\n",
       "    </tr>\n",
       "    <tr>\n",
       "      <th>finishedsquarefeet12</th>\n",
       "      <td>3632</td>\n",
       "      <td>0.05</td>\n",
       "    </tr>\n",
       "    <tr>\n",
       "      <th>finishedsquarefeet13</th>\n",
       "      <td>77339</td>\n",
       "      <td>1.00</td>\n",
       "    </tr>\n",
       "    <tr>\n",
       "      <th>finishedsquarefeet15</th>\n",
       "      <td>74371</td>\n",
       "      <td>0.96</td>\n",
       "    </tr>\n",
       "    <tr>\n",
       "      <th>finishedsquarefeet50</th>\n",
       "      <td>71357</td>\n",
       "      <td>0.92</td>\n",
       "    </tr>\n",
       "    <tr>\n",
       "      <th>finishedsquarefeet6</th>\n",
       "      <td>76994</td>\n",
       "      <td>1.00</td>\n",
       "    </tr>\n",
       "    <tr>\n",
       "      <th>fips</th>\n",
       "      <td>0</td>\n",
       "      <td>0.00</td>\n",
       "    </tr>\n",
       "    <tr>\n",
       "      <th>fireplacecnt</th>\n",
       "      <td>69104</td>\n",
       "      <td>0.89</td>\n",
       "    </tr>\n",
       "    <tr>\n",
       "      <th>fullbathcnt</th>\n",
       "      <td>609</td>\n",
       "      <td>0.01</td>\n",
       "    </tr>\n",
       "    <tr>\n",
       "      <th>garagecarcnt</th>\n",
       "      <td>51906</td>\n",
       "      <td>0.67</td>\n",
       "    </tr>\n",
       "    <tr>\n",
       "      <th>garagetotalsqft</th>\n",
       "      <td>51906</td>\n",
       "      <td>0.67</td>\n",
       "    </tr>\n",
       "    <tr>\n",
       "      <th>hashottuborspa</th>\n",
       "      <td>75842</td>\n",
       "      <td>0.98</td>\n",
       "    </tr>\n",
       "    <tr>\n",
       "      <th>heatingorsystemtypeid</th>\n",
       "      <td>27941</td>\n",
       "      <td>0.36</td>\n",
       "    </tr>\n",
       "    <tr>\n",
       "      <th>latitude</th>\n",
       "      <td>0</td>\n",
       "      <td>0.00</td>\n",
       "    </tr>\n",
       "    <tr>\n",
       "      <th>longitude</th>\n",
       "      <td>0</td>\n",
       "      <td>0.00</td>\n",
       "    </tr>\n",
       "    <tr>\n",
       "      <th>lotsizesquarefeet</th>\n",
       "      <td>8239</td>\n",
       "      <td>0.11</td>\n",
       "    </tr>\n",
       "    <tr>\n",
       "      <th>poolcnt</th>\n",
       "      <td>61243</td>\n",
       "      <td>0.79</td>\n",
       "    </tr>\n",
       "    <tr>\n",
       "      <th>poolsizesum</th>\n",
       "      <td>76513</td>\n",
       "      <td>0.99</td>\n",
       "    </tr>\n",
       "    <tr>\n",
       "      <th>pooltypeid10</th>\n",
       "      <td>76916</td>\n",
       "      <td>0.99</td>\n",
       "    </tr>\n",
       "    <tr>\n",
       "      <th>pooltypeid2</th>\n",
       "      <td>76306</td>\n",
       "      <td>0.99</td>\n",
       "    </tr>\n",
       "    <tr>\n",
       "      <th>pooltypeid7</th>\n",
       "      <td>62338</td>\n",
       "      <td>0.81</td>\n",
       "    </tr>\n",
       "    <tr>\n",
       "      <th>propertycountylandusecode</th>\n",
       "      <td>0</td>\n",
       "      <td>0.00</td>\n",
       "    </tr>\n",
       "    <tr>\n",
       "      <th>propertylandusetypeid</th>\n",
       "      <td>0</td>\n",
       "      <td>0.00</td>\n",
       "    </tr>\n",
       "    <tr>\n",
       "      <th>propertyzoningdesc</th>\n",
       "      <td>27050</td>\n",
       "      <td>0.35</td>\n",
       "    </tr>\n",
       "    <tr>\n",
       "      <th>rawcensustractandblock</th>\n",
       "      <td>0</td>\n",
       "      <td>0.00</td>\n",
       "    </tr>\n",
       "    <tr>\n",
       "      <th>regionidcity</th>\n",
       "      <td>1471</td>\n",
       "      <td>0.02</td>\n",
       "    </tr>\n",
       "    <tr>\n",
       "      <th>regionidcounty</th>\n",
       "      <td>0</td>\n",
       "      <td>0.00</td>\n",
       "    </tr>\n",
       "    <tr>\n",
       "      <th>regionidneighborhood</th>\n",
       "      <td>46490</td>\n",
       "      <td>0.60</td>\n",
       "    </tr>\n",
       "    <tr>\n",
       "      <th>regionidzip</th>\n",
       "      <td>50</td>\n",
       "      <td>0.00</td>\n",
       "    </tr>\n",
       "    <tr>\n",
       "      <th>roomcnt</th>\n",
       "      <td>0</td>\n",
       "      <td>0.00</td>\n",
       "    </tr>\n",
       "    <tr>\n",
       "      <th>storytypeid</th>\n",
       "      <td>77330</td>\n",
       "      <td>1.00</td>\n",
       "    </tr>\n",
       "    <tr>\n",
       "      <th>threequarterbathnbr</th>\n",
       "      <td>67284</td>\n",
       "      <td>0.87</td>\n",
       "    </tr>\n",
       "    <tr>\n",
       "      <th>typeconstructiontypeid</th>\n",
       "      <td>77158</td>\n",
       "      <td>1.00</td>\n",
       "    </tr>\n",
       "    <tr>\n",
       "      <th>unitcnt</th>\n",
       "      <td>26818</td>\n",
       "      <td>0.35</td>\n",
       "    </tr>\n",
       "    <tr>\n",
       "      <th>yardbuildingsqft17</th>\n",
       "      <td>74992</td>\n",
       "      <td>0.97</td>\n",
       "    </tr>\n",
       "    <tr>\n",
       "      <th>yardbuildingsqft26</th>\n",
       "      <td>77310</td>\n",
       "      <td>1.00</td>\n",
       "    </tr>\n",
       "    <tr>\n",
       "      <th>yearbuilt</th>\n",
       "      <td>263</td>\n",
       "      <td>0.00</td>\n",
       "    </tr>\n",
       "    <tr>\n",
       "      <th>numberofstories</th>\n",
       "      <td>59820</td>\n",
       "      <td>0.77</td>\n",
       "    </tr>\n",
       "    <tr>\n",
       "      <th>fireplaceflag</th>\n",
       "      <td>77208</td>\n",
       "      <td>1.00</td>\n",
       "    </tr>\n",
       "    <tr>\n",
       "      <th>structuretaxvaluedollarcnt</th>\n",
       "      <td>112</td>\n",
       "      <td>0.00</td>\n",
       "    </tr>\n",
       "    <tr>\n",
       "      <th>taxvaluedollarcnt</th>\n",
       "      <td>1</td>\n",
       "      <td>0.00</td>\n",
       "    </tr>\n",
       "    <tr>\n",
       "      <th>assessmentyear</th>\n",
       "      <td>0</td>\n",
       "      <td>0.00</td>\n",
       "    </tr>\n",
       "    <tr>\n",
       "      <th>landtaxvaluedollarcnt</th>\n",
       "      <td>2</td>\n",
       "      <td>0.00</td>\n",
       "    </tr>\n",
       "    <tr>\n",
       "      <th>taxamount</th>\n",
       "      <td>5</td>\n",
       "      <td>0.00</td>\n",
       "    </tr>\n",
       "    <tr>\n",
       "      <th>taxdelinquencyflag</th>\n",
       "      <td>74494</td>\n",
       "      <td>0.96</td>\n",
       "    </tr>\n",
       "    <tr>\n",
       "      <th>taxdelinquencyyear</th>\n",
       "      <td>74494</td>\n",
       "      <td>0.96</td>\n",
       "    </tr>\n",
       "    <tr>\n",
       "      <th>censustractandblock</th>\n",
       "      <td>244</td>\n",
       "      <td>0.00</td>\n",
       "    </tr>\n",
       "    <tr>\n",
       "      <th>logerror</th>\n",
       "      <td>0</td>\n",
       "      <td>0.00</td>\n",
       "    </tr>\n",
       "    <tr>\n",
       "      <th>transactiondate</th>\n",
       "      <td>0</td>\n",
       "      <td>0.00</td>\n",
       "    </tr>\n",
       "    <tr>\n",
       "      <th>typeconstructiondesc</th>\n",
       "      <td>77158</td>\n",
       "      <td>1.00</td>\n",
       "    </tr>\n",
       "    <tr>\n",
       "      <th>airconditioningdesc</th>\n",
       "      <td>52427</td>\n",
       "      <td>0.68</td>\n",
       "    </tr>\n",
       "    <tr>\n",
       "      <th>architecturalstyledesc</th>\n",
       "      <td>77174</td>\n",
       "      <td>1.00</td>\n",
       "    </tr>\n",
       "    <tr>\n",
       "      <th>buildingclassdesc</th>\n",
       "      <td>77365</td>\n",
       "      <td>1.00</td>\n",
       "    </tr>\n",
       "    <tr>\n",
       "      <th>propertylandusedesc</th>\n",
       "      <td>0</td>\n",
       "      <td>0.00</td>\n",
       "    </tr>\n",
       "    <tr>\n",
       "      <th>storydesc</th>\n",
       "      <td>77330</td>\n",
       "      <td>1.00</td>\n",
       "    </tr>\n",
       "    <tr>\n",
       "      <th>heatingorsystemdesc</th>\n",
       "      <td>27941</td>\n",
       "      <td>0.36</td>\n",
       "    </tr>\n",
       "  </tbody>\n",
       "</table>\n",
       "</div>"
      ],
      "text/plain": [
       "                              num_columns_missing  percent_columns_missing\n",
       "id                                              0                     0.00\n",
       "parcelid                                        0                     0.00\n",
       "airconditioningtypeid                       52427                     0.68\n",
       "architecturalstyletypeid                    77174                     1.00\n",
       "basementsqft                                77330                     1.00\n",
       "bathroomcnt                                     0                     0.00\n",
       "bedroomcnt                                      0                     0.00\n",
       "buildingclasstypeid                         77365                     1.00\n",
       "buildingqualitytypeid                       27709                     0.36\n",
       "calculatedbathnbr                             609                     0.01\n",
       "decktypeid                                  76766                     0.99\n",
       "finishedfloor1squarefeet                    71357                     0.92\n",
       "calculatedfinishedsquarefeet                  196                     0.00\n",
       "finishedsquarefeet12                         3632                     0.05\n",
       "finishedsquarefeet13                        77339                     1.00\n",
       "finishedsquarefeet15                        74371                     0.96\n",
       "finishedsquarefeet50                        71357                     0.92\n",
       "finishedsquarefeet6                         76994                     1.00\n",
       "fips                                            0                     0.00\n",
       "fireplacecnt                                69104                     0.89\n",
       "fullbathcnt                                   609                     0.01\n",
       "garagecarcnt                                51906                     0.67\n",
       "garagetotalsqft                             51906                     0.67\n",
       "hashottuborspa                              75842                     0.98\n",
       "heatingorsystemtypeid                       27941                     0.36\n",
       "latitude                                        0                     0.00\n",
       "longitude                                       0                     0.00\n",
       "lotsizesquarefeet                            8239                     0.11\n",
       "poolcnt                                     61243                     0.79\n",
       "poolsizesum                                 76513                     0.99\n",
       "pooltypeid10                                76916                     0.99\n",
       "pooltypeid2                                 76306                     0.99\n",
       "pooltypeid7                                 62338                     0.81\n",
       "propertycountylandusecode                       0                     0.00\n",
       "propertylandusetypeid                           0                     0.00\n",
       "propertyzoningdesc                          27050                     0.35\n",
       "rawcensustractandblock                          0                     0.00\n",
       "regionidcity                                 1471                     0.02\n",
       "regionidcounty                                  0                     0.00\n",
       "regionidneighborhood                        46490                     0.60\n",
       "regionidzip                                    50                     0.00\n",
       "roomcnt                                         0                     0.00\n",
       "storytypeid                                 77330                     1.00\n",
       "threequarterbathnbr                         67284                     0.87\n",
       "typeconstructiontypeid                      77158                     1.00\n",
       "unitcnt                                     26818                     0.35\n",
       "yardbuildingsqft17                          74992                     0.97\n",
       "yardbuildingsqft26                          77310                     1.00\n",
       "yearbuilt                                     263                     0.00\n",
       "numberofstories                             59820                     0.77\n",
       "fireplaceflag                               77208                     1.00\n",
       "structuretaxvaluedollarcnt                    112                     0.00\n",
       "taxvaluedollarcnt                               1                     0.00\n",
       "assessmentyear                                  0                     0.00\n",
       "landtaxvaluedollarcnt                           2                     0.00\n",
       "taxamount                                       5                     0.00\n",
       "taxdelinquencyflag                          74494                     0.96\n",
       "taxdelinquencyyear                          74494                     0.96\n",
       "censustractandblock                           244                     0.00\n",
       "logerror                                        0                     0.00\n",
       "transactiondate                                 0                     0.00\n",
       "typeconstructiondesc                        77158                     1.00\n",
       "airconditioningdesc                         52427                     0.68\n",
       "architecturalstyledesc                      77174                     1.00\n",
       "buildingclassdesc                           77365                     1.00\n",
       "propertylandusedesc                             0                     0.00\n",
       "storydesc                                   77330                     1.00\n",
       "heatingorsystemdesc                         27941                     0.36"
      ]
     },
     "execution_count": 7,
     "metadata": {},
     "output_type": "execute_result"
    }
   ],
   "source": [
    "#summary of null values in columns\n",
    "summarize_column_nulls(df)"
   ]
  },
  {
   "cell_type": "code",
   "execution_count": 8,
   "id": "68c0c67c",
   "metadata": {},
   "outputs": [],
   "source": [
    "#function to check nulls in rows\n",
    "def summarize_row_nulls(df):\n",
    "    return pd.concat([\n",
    "        df.isnull().sum(axis = 1).rename('num_rows_missing'),\n",
    "        df.isnull().mean(axis = 1).rename('percent_row_missing')\n",
    "    ], axis = 1).value_counts().sort_index()"
   ]
  },
  {
   "cell_type": "code",
   "execution_count": 9,
   "id": "c710a4fc",
   "metadata": {},
   "outputs": [
    {
     "data": {
      "text/plain": [
       "num_rows_missing  percent_row_missing\n",
       "23                0.34                       2\n",
       "24                0.35                      13\n",
       "25                0.37                      24\n",
       "26                0.38                      65\n",
       "27                0.40                     316\n",
       "28                0.41                     455\n",
       "29                0.43                    5270\n",
       "30                0.44                    3455\n",
       "31                0.46                    9891\n",
       "32                0.47                   12579\n",
       "33                0.49                   14782\n",
       "34                0.50                   13326\n",
       "35                0.51                    5148\n",
       "36                0.53                    5775\n",
       "37                0.54                    3620\n",
       "38                0.56                    1925\n",
       "39                0.57                     285\n",
       "40                0.59                     230\n",
       "41                0.60                      29\n",
       "42                0.62                      23\n",
       "43                0.63                      28\n",
       "44                0.65                      78\n",
       "45                0.66                      50\n",
       "46                0.68                       5\n",
       "47                0.69                       3\n",
       "48                0.71                       3\n",
       "dtype: int64"
      ]
     },
     "execution_count": 9,
     "metadata": {},
     "output_type": "execute_result"
    }
   ],
   "source": [
    "#summary of null values in rows\n",
    "summarize_row_nulls(df)"
   ]
  },
  {
   "cell_type": "code",
   "execution_count": 10,
   "id": "7c283a18",
   "metadata": {},
   "outputs": [
    {
     "data": {
      "image/png": "[encoded data removed]",
      "text/plain": [
       "<Figure size 432x288 with 1 Axes>"
      ]
     },
     "metadata": {
      "needs_background": "light"
     },
     "output_type": "display_data"
    },
    {
     "data": {
      "image/png": "[encoded data removed]",
      "text/plain": [
       "<Figure size 432x288 with 1 Axes>"
      ]
     },
     "metadata": {
      "needs_background": "light"
     },
     "output_type": "display_data"
    },
    {
     "data": {
      "image/png": "[encoded data removed]",
      "text/plain": [
       "<Figure size 432x288 with 1 Axes>"
      ]
     },
     "metadata": {
      "needs_background": "light"
     },
     "output_type": "display_data"
    },
    {
     "data": {
      "image/png": "[encoded data removed]",
      "text/plain": [
       "<Figure size 432x288 with 1 Axes>"
      ]
     },
     "metadata": {
      "needs_background": "light"
     },
     "output_type": "display_data"
    },
    {
     "data": {
      "image/png": "[encoded data removed]",
      "text/plain": [
       "<Figure size 432x288 with 1 Axes>"
      ]
     },
     "metadata": {
      "needs_background": "light"
     },
     "output_type": "display_data"
    },
    {
     "data": {
      "image/png": "[encoded data removed]",
      "text/plain": [
       "<Figure size 432x288 with 1 Axes>"
      ]
     },
     "metadata": {
      "needs_background": "light"
     },
     "output_type": "display_data"
    },
    {
     "data": {
      "image/png": "[encoded data removed]",
      "text/plain": [
       "<Figure size 432x288 with 1 Axes>"
      ]
     },
     "metadata": {
      "needs_background": "light"
     },
     "output_type": "display_data"
    },
    {
     "data": {
      "image/png": "[encoded data removed]",
      "text/plain": [
       "<Figure size 432x288 with 1 Axes>"
      ]
     },
     "metadata": {
      "needs_background": "light"
     },
     "output_type": "display_data"
    },
    {
     "data": {
      "image/png": "[encoded data removed]",
      "text/plain": [
       "<Figure size 432x288 with 1 Axes>"
      ]
     },
     "metadata": {
      "needs_background": "light"
     },
     "output_type": "display_data"
    },
    {
     "data": {
      "image/png": "[encoded data removed]",
      "text/plain": [
       "<Figure size 432x288 with 1 Axes>"
      ]
     },
     "metadata": {
      "needs_background": "light"
     },
     "output_type": "display_data"
    },
    {
     "data": {
      "image/png": "[encoded data removed]",
      "text/plain": [
       "<Figure size 432x288 with 1 Axes>"
      ]
     },
     "metadata": {
      "needs_background": "light"
     },
     "output_type": "display_data"
    },
    {
     "data": {
      "image/png": "[encoded data removed]",
      "text/plain": [
       "<Figure size 432x288 with 1 Axes>"
      ]
     },
     "metadata": {
      "needs_background": "light"
     },
     "output_type": "display_data"
    },
    {
     "data": {
      "image/png": "[encoded data removed]",
      "text/plain": [
       "<Figure size 432x288 with 1 Axes>"
      ]
     },
     "metadata": {
      "needs_background": "light"
     },
     "output_type": "display_data"
    },
    {
     "data": {
      "image/png": "[encoded data removed]",
      "text/plain": [
       "<Figure size 432x288 with 1 Axes>"
      ]
     },
     "metadata": {
      "needs_background": "light"
     },
     "output_type": "display_data"
    },
    {
     "data": {
      "image/png": "[encoded data removed]",
      "text/plain": [
       "<Figure size 432x288 with 1 Axes>"
      ]
     },
     "metadata": {
      "needs_background": "light"
     },
     "output_type": "display_data"
    },
    {
     "data": {
      "image/png": "[encoded data removed]",
      "text/plain": [
       "<Figure size 432x288 with 1 Axes>"
      ]
     },
     "metadata": {
      "needs_background": "light"
     },
     "output_type": "display_data"
    },
    {
     "data": {
      "image/png": "[encoded data removed]",
      "text/plain": [
       "<Figure size 432x288 with 1 Axes>"
      ]
     },
     "metadata": {
      "needs_background": "light"
     },
     "output_type": "display_data"
    },
    {
     "data": {
      "image/png": "[encoded data removed]",
      "text/plain": [
       "<Figure size 432x288 with 1 Axes>"
      ]
     },
     "metadata": {
      "needs_background": "light"
     },
     "output_type": "display_data"
    },
    {
     "data": {
      "image/png": "[encoded data removed]",
      "text/plain": [
       "<Figure size 432x288 with 1 Axes>"
      ]
     },
     "metadata": {
      "needs_background": "light"
     },
     "output_type": "display_data"
    },
    {
     "data": {
      "image/png": "[encoded data removed]",
      "text/plain": [
       "<Figure size 432x288 with 1 Axes>"
      ]
     },
     "metadata": {
      "needs_background": "light"
     },
     "output_type": "display_data"
    },
    {
     "data": {
      "image/png": "[encoded data removed]",
      "text/plain": [
       "<Figure size 432x288 with 1 Axes>"
      ]
     },
     "metadata": {
      "needs_background": "light"
     },
     "output_type": "display_data"
    },
    {
     "data": {
      "image/png": "[encoded data removed]",
      "text/plain": [
       "<Figure size 432x288 with 1 Axes>"
      ]
     },
     "metadata": {
      "needs_background": "light"
     },
     "output_type": "display_data"
    },
    {
     "data": {
      "image/png": "[encoded data removed]",
      "text/plain": [
       "<Figure size 432x288 with 1 Axes>"
      ]
     },
     "metadata": {
      "needs_background": "light"
     },
     "output_type": "display_data"
    },
    {
     "data": {
      "image/png": "[encoded data removed]",
      "text/plain": [
       "<Figure size 432x288 with 1 Axes>"
      ]
     },
     "metadata": {
      "needs_background": "light"
     },
     "output_type": "display_data"
    },
    {
     "data": {
      "image/png": "[encoded data removed]",
      "text/plain": [
       "<Figure size 432x288 with 1 Axes>"
      ]
     },
     "metadata": {
      "needs_background": "light"
     },
     "output_type": "display_data"
    },
    {
     "data": {
      "image/png": "[encoded data removed]",
      "text/plain": [
       "<Figure size 432x288 with 1 Axes>"
      ]
     },
     "metadata": {
      "needs_background": "light"
     },
     "output_type": "display_data"
    },
    {
     "data": {
      "image/png": "[encoded data removed]",
      "text/plain": [
       "<Figure size 432x288 with 1 Axes>"
      ]
     },
     "metadata": {
      "needs_background": "light"
     },
     "output_type": "display_data"
    },
    {
     "data": {
      "image/png": "[encoded data removed]",
      "text/plain": [
       "<Figure size 432x288 with 1 Axes>"
      ]
     },
     "metadata": {
      "needs_background": "light"
     },
     "output_type": "display_data"
    },
    {
     "data": {
      "image/png": "[encoded data removed]",
      "text/plain": [
       "<Figure size 432x288 with 1 Axes>"
      ]
     },
     "metadata": {
      "needs_background": "light"
     },
     "output_type": "display_data"
    },
    {
     "data": {
      "image/png": "[encoded data removed]",
      "text/plain": [
       "<Figure size 432x288 with 1 Axes>"
      ]
     },
     "metadata": {
      "needs_background": "light"
     },
     "output_type": "display_data"
    },
    {
     "data": {
      "image/png": "[encoded data removed]",
      "text/plain": [
       "<Figure size 432x288 with 1 Axes>"
      ]
     },
     "metadata": {
      "needs_background": "light"
     },
     "output_type": "display_data"
    },
    {
     "data": {
      "image/png": "[encoded data removed]",
      "text/plain": [
       "<Figure size 432x288 with 1 Axes>"
      ]
     },
     "metadata": {
      "needs_background": "light"
     },
     "output_type": "display_data"
    },
    {
     "data": {
      "image/png": "[encoded data removed]",
      "text/plain": [
       "<Figure size 432x288 with 1 Axes>"
      ]
     },
     "metadata": {
      "needs_background": "light"
     },
     "output_type": "display_data"
    },
    {
     "data": {
      "image/png": "[encoded data removed]",
      "text/plain": [
       "<Figure size 432x288 with 1 Axes>"
      ]
     },
     "metadata": {
      "needs_background": "light"
     },
     "output_type": "display_data"
    },
    {
     "data": {
      "image/png": "[encoded data removed]",
      "text/plain": [
       "<Figure size 432x288 with 1 Axes>"
      ]
     },
     "metadata": {
      "needs_background": "light"
     },
     "output_type": "display_data"
    },
    {
     "data": {
      "image/png": "[encoded data removed]",
      "text/plain": [
       "<Figure size 432x288 with 1 Axes>"
      ]
     },
     "metadata": {
      "needs_background": "light"
     },
     "output_type": "display_data"
    },
    {
     "data": {
      "image/png": "[encoded data removed]",
      "text/plain": [
       "<Figure size 432x288 with 1 Axes>"
      ]
     },
     "metadata": {
      "needs_background": "light"
     },
     "output_type": "display_data"
    },
    {
     "data": {
      "image/png": "[encoded data removed]",
      "text/plain": [
       "<Figure size 432x288 with 1 Axes>"
      ]
     },
     "metadata": {
      "needs_background": "light"
     },
     "output_type": "display_data"
    },
    {
     "data": {
      "image/png": "[encoded data removed]",
      "text/plain": [
       "<Figure size 432x288 with 1 Axes>"
      ]
     },
     "metadata": {
      "needs_background": "light"
     },
     "output_type": "display_data"
    },
    {
     "data": {
      "image/png": "[encoded data removed]",
      "text/plain": [
       "<Figure size 432x288 with 1 Axes>"
      ]
     },
     "metadata": {
      "needs_background": "light"
     },
     "output_type": "display_data"
    },
    {
     "data": {
      "image/png": "[encoded data removed]",
      "text/plain": [
       "<Figure size 432x288 with 1 Axes>"
      ]
     },
     "metadata": {
      "needs_background": "light"
     },
     "output_type": "display_data"
    },
    {
     "data": {
      "image/png": "[encoded data removed]",
      "text/plain": [
       "<Figure size 432x288 with 1 Axes>"
      ]
     },
     "metadata": {
      "needs_background": "light"
     },
     "output_type": "display_data"
    },
    {
     "data": {
      "image/png": "[encoded data removed]",
      "text/plain": [
       "<Figure size 432x288 with 1 Axes>"
      ]
     },
     "metadata": {
      "needs_background": "light"
     },
     "output_type": "display_data"
    },
    {
     "data": {
      "image/png": "[encoded data removed]",
      "text/plain": [
       "<Figure size 432x288 with 1 Axes>"
      ]
     },
     "metadata": {
      "needs_background": "light"
     },
     "output_type": "display_data"
    },
    {
     "data": {
      "image/png": "[encoded data removed]",
      "text/plain": [
       "<Figure size 432x288 with 1 Axes>"
      ]
     },
     "metadata": {
      "needs_background": "light"
     },
     "output_type": "display_data"
    },
    {
     "data": {
      "image/png": "[encoded data removed]",
      "text/plain": [
       "<Figure size 432x288 with 1 Axes>"
      ]
     },
     "metadata": {
      "needs_background": "light"
     },
     "output_type": "display_data"
    },
    {
     "data": {
      "image/png": "[encoded data removed]",
      "text/plain": [
       "<Figure size 432x288 with 1 Axes>"
      ]
     },
     "metadata": {
      "needs_background": "light"
     },
     "output_type": "display_data"
    },
    {
     "data": {
      "image/png": "[encoded data removed]",
      "text/plain": [
       "<Figure size 432x288 with 1 Axes>"
      ]
     },
     "metadata": {
      "needs_background": "light"
     },
     "output_type": "display_data"
    },
    {
     "data": {
      "image/png": "[encoded data removed]",
      "text/plain": [
       "<Figure size 432x288 with 1 Axes>"
      ]
     },
     "metadata": {
      "needs_background": "light"
     },
     "output_type": "display_data"
    },
    {
     "data": {
      "image/png": "[encoded data removed]",
      "text/plain": [
       "<Figure size 432x288 with 1 Axes>"
      ]
     },
     "metadata": {
      "needs_background": "light"
     },
     "output_type": "display_data"
    },
    {
     "data": {
      "image/png": "[encoded data removed]",
      "text/plain": [
       "<Figure size 432x288 with 1 Axes>"
      ]
     },
     "metadata": {
      "needs_background": "light"
     },
     "output_type": "display_data"
    },
    {
     "data": {
      "image/png": "[encoded data removed]",
      "text/plain": [
       "<Figure size 432x288 with 1 Axes>"
      ]
     },
     "metadata": {
      "needs_background": "light"
     },
     "output_type": "display_data"
    },
    {
     "data": {
      "image/png": "[encoded data removed]",
      "text/plain": [
       "<Figure size 432x288 with 1 Axes>"
      ]
     },
     "metadata": {
      "needs_background": "light"
     },
     "output_type": "display_data"
    },
    {
     "data": {
      "image/png": "[encoded data removed]",
      "text/plain": [
       "<Figure size 432x288 with 1 Axes>"
      ]
     },
     "metadata": {
      "needs_background": "light"
     },
     "output_type": "display_data"
    },
    {
     "data": {
      "image/png": "[encoded data removed]",
      "text/plain": [
       "<Figure size 432x288 with 1 Axes>"
      ]
     },
     "metadata": {
      "needs_background": "light"
     },
     "output_type": "display_data"
    },
    {
     "data": {
      "image/png": "[encoded data removed]",
      "text/plain": [
       "<Figure size 432x288 with 1 Axes>"
      ]
     },
     "metadata": {
      "needs_background": "light"
     },
     "output_type": "display_data"
    },
    {
     "data": {
      "image/png": "[encoded data removed]",
      "text/plain": [
       "<Figure size 432x288 with 1 Axes>"
      ]
     },
     "metadata": {
      "needs_background": "light"
     },
     "output_type": "display_data"
    }
   ],
   "source": [
    "#visualization\n",
    "numerical_columns = [col for col in df.columns if col in df.select_dtypes(include = [\"number\"])]\n",
    "for col in numerical_columns:\n",
    "    sns.histplot(df[col])\n",
    "    plt.show()"
   ]
  },
  {
   "cell_type": "markdown",
   "id": "3d8910f1",
   "metadata": {},
   "source": [
    "### Prepare\n",
    "\n",
    "### 1. Remove any properties that are likely to be something other than single unit properties. (e.g. no duplexes, no land/lot, ...). There are multiple ways to estimate that a property is a single unit, and there is not a single \"right\" answer."
   ]
  },
  {
   "cell_type": "code",
   "execution_count": null,
   "id": "36c20488",
   "metadata": {},
   "outputs": [],
   "source": []
  },
  {
   "cell_type": "markdown",
   "id": "c650fade",
   "metadata": {},
   "source": [
    "### 2. Create a function that will drop rows or columns based on the percent of values that are missing: handle_missing_values(df, prop_required_column, prop_required_row).\n",
    "\n",
    "### . The input:\n",
    "### . A dataframe\n",
    "### . A number between 0 and 1 that represents the proportion, for each column, of rows with non-missing values required to keep the column. i.e. if prop_required_column = .6, then you are requiring a column to have at least 60% of values not-NA (no more than 40% missing).\n",
    "### . A number between 0 and 1 that represents the proportion, for each row, of columns/variables with non-missing values required to keep the row. For example, if prop_required_row = .75, then you are requiring a row to have at least 75% of variables with a non-missing value (no more that 25% missing).\n",
    "### . The output:\n",
    "### . The dataframe with the columns and rows dropped as indicated. Be sure to drop the columns prior to the rows in your function.\n",
    "### .hint:\n",
    "### . Look up the dropna documentation.\n",
    "### . You will want to compute a threshold from your input values (prop_required) and total number of rows or columns."
   ]
  },
  {
   "cell_type": "code",
   "execution_count": 11,
   "id": "93fa3c95",
   "metadata": {},
   "outputs": [],
   "source": [
    "#function handling missing values\n",
    "def handle_missing_values(df, \n",
    "                          prop_required_columns=0.5, \n",
    "                          prop_required_row=0.75):\n",
    "    threshold = int(round(prop_required_columns * len(df.index), 0))\n",
    "    df = df.dropna(axis=1, thresh=threshold)\n",
    "    threshold = int(round(prop_required_row * len(df.columns), 0))\n",
    "    df = df.dropna(axis=0, thresh=threshold)\n",
    "    return df"
   ]
  },
  {
   "cell_type": "code",
   "execution_count": 12,
   "id": "be15aef4",
   "metadata": {},
   "outputs": [
    {
     "name": "stdout",
     "output_type": "stream",
     "text": [
      "Before dropping nulls, 77380 rows ,68 cols\n"
     ]
    }
   ],
   "source": [
    "print('Before dropping nulls, %d rows ,%d cols' % df.shape)"
   ]
  },
  {
   "cell_type": "code",
   "execution_count": 13,
   "id": "ac7d1470",
   "metadata": {},
   "outputs": [],
   "source": [
    "df1 = handle_missing_values(df)"
   ]
  },
  {
   "cell_type": "code",
   "execution_count": 14,
   "id": "42d52c5e",
   "metadata": {},
   "outputs": [
    {
     "name": "stdout",
     "output_type": "stream",
     "text": [
      "After dropping nulls, 77184 rows ,34 cols\n"
     ]
    }
   ],
   "source": [
    "print('After dropping nulls, %d rows ,%d cols' % df1.shape)"
   ]
  },
  {
   "cell_type": "code",
   "execution_count": 18,
   "id": "340390f4",
   "metadata": {},
   "outputs": [
    {
     "name": "stdout",
     "output_type": "stream",
     "text": [
      "DataFrame head: \n",
      "\n",
      "        id  parcelid          bathroomcnt           bedroomcnt  \\\n",
      "0  1727539  14297519                 3.50                 4.00   \n",
      "1  1387261  17052889                 1.00                 2.00   \n",
      "2    11677  14186244                 2.00                 3.00   \n",
      "3  2288172  12177905                 3.00                 4.00   \n",
      "4  1970746  10887214                 3.00                 3.00   \n",
      "\n",
      "   buildingqualitytypeid    calculatedbathnbr  calculatedfinishedsquarefeet  \\\n",
      "0                    NaN                 3.50                      3,100.00   \n",
      "1                    NaN                 1.00                      1,465.00   \n",
      "2                    NaN                 2.00                      1,243.00   \n",
      "3                   8.00                 3.00                      2,376.00   \n",
      "4                   8.00                 3.00                      1,312.00   \n",
      "\n",
      "   finishedsquarefeet12                 fips          fullbathcnt  ...  \\\n",
      "0              3,100.00             6,059.00                 3.00  ...   \n",
      "1              1,465.00             6,111.00                 1.00  ...   \n",
      "2              1,243.00             6,059.00                 2.00  ...   \n",
      "3              2,376.00             6,037.00                 3.00  ...   \n",
      "4              1,312.00             6,037.00                 3.00  ...   \n",
      "\n",
      "   structuretaxvaluedollarcnt    taxvaluedollarcnt       assessmentyear  \\\n",
      "0                  485,713.00         1,023,282.00             2,016.00   \n",
      "1                   88,000.00           464,000.00             2,016.00   \n",
      "2                   85,289.00           564,778.00             2,016.00   \n",
      "3                  108,918.00           145,143.00             2,016.00   \n",
      "4                   73,681.00           119,407.00             2,016.00   \n",
      "\n",
      "   landtaxvaluedollarcnt            taxamount   censustractandblock  \\\n",
      "0             537,569.00            11,013.72 60,590,630,072,012.00   \n",
      "1             376,000.00             5,672.48 61,110,010,023,006.00   \n",
      "2             479,489.00             6,488.30 60,590,218,022,012.00   \n",
      "3              36,225.00             1,777.51 60,373,001,001,006.00   \n",
      "4              45,726.00             1,533.89 60,371,236,012,000.00   \n",
      "\n",
      "              logerror  transactiondate        propertylandusedesc  \\\n",
      "0                 0.03       2017-01-01  Single Family Residential   \n",
      "1                 0.06       2017-01-01  Single Family Residential   \n",
      "2                 0.01       2017-01-01  Single Family Residential   \n",
      "3                -0.10       2017-01-01  Single Family Residential   \n",
      "4                 0.01       2017-01-01                Condominium   \n",
      "\n",
      "   heatingorsystemdesc  \n",
      "0                  NaN  \n",
      "1                  NaN  \n",
      "2                  NaN  \n",
      "3              Central  \n",
      "4              Central  \n",
      "\n",
      "[5 rows x 34 columns]\n",
      "----------\n",
      "DataFrame info: \n",
      "\n",
      "<class 'pandas.core.frame.DataFrame'>\n",
      "Int64Index: 77184 entries, 0 to 77379\n",
      "Data columns (total 34 columns):\n",
      " #   Column                        Non-Null Count  Dtype  \n",
      "---  ------                        --------------  -----  \n",
      " 0   id                            77184 non-null  int64  \n",
      " 1   parcelid                      77184 non-null  int64  \n",
      " 2   bathroomcnt                   77184 non-null  float64\n",
      " 3   bedroomcnt                    77184 non-null  float64\n",
      " 4   buildingqualitytypeid         49670 non-null  float64\n",
      " 5   calculatedbathnbr             76767 non-null  float64\n",
      " 6   calculatedfinishedsquarefeet  77170 non-null  float64\n",
      " 7   finishedsquarefeet12          73744 non-null  float64\n",
      " 8   fips                          77184 non-null  float64\n",
      " 9   fullbathcnt                   76767 non-null  float64\n",
      " 10  heatingorsystemtypeid         49439 non-null  float64\n",
      " 11  latitude                      77184 non-null  float64\n",
      " 12  longitude                     77184 non-null  float64\n",
      " 13  lotsizesquarefeet             69027 non-null  float64\n",
      " 14  propertycountylandusecode     77184 non-null  object \n",
      " 15  propertylandusetypeid         77184 non-null  float64\n",
      " 16  propertyzoningdesc            50272 non-null  object \n",
      " 17  rawcensustractandblock        77184 non-null  float64\n",
      " 18  regionidcity                  75730 non-null  float64\n",
      " 19  regionidcounty                77184 non-null  float64\n",
      " 20  regionidzip                   77143 non-null  float64\n",
      " 21  roomcnt                       77184 non-null  float64\n",
      " 22  unitcnt                       50562 non-null  float64\n",
      " 23  yearbuilt                     77101 non-null  float64\n",
      " 24  structuretaxvaluedollarcnt    77099 non-null  float64\n",
      " 25  taxvaluedollarcnt             77183 non-null  float64\n",
      " 26  assessmentyear                77184 non-null  float64\n",
      " 27  landtaxvaluedollarcnt         77183 non-null  float64\n",
      " 28  taxamount                     77179 non-null  float64\n",
      " 29  censustractandblock           76964 non-null  float64\n",
      " 30  logerror                      77184 non-null  float64\n",
      " 31  transactiondate               77184 non-null  object \n",
      " 32  propertylandusedesc           77184 non-null  object \n",
      " 33  heatingorsystemdesc           49439 non-null  object \n",
      "dtypes: float64(27), int64(2), object(5)\n",
      "memory usage: 20.6+ MB\n",
      "None\n",
      "----------\n",
      "Dataframe Description: \n",
      "\n",
      "                        id             parcelid          bathroomcnt  \\\n",
      "count            77,184.00            77,184.00            77,184.00   \n",
      "mean          1,495,181.03        12,996,225.16                 2.30   \n",
      "std             860,983.92         3,301,359.27                 0.99   \n",
      "min                 349.00        10,711,855.00                 0.00   \n",
      "25%             751,820.00        11,537,197.25                 2.00   \n",
      "50%           1,497,805.50        12,529,526.50                 2.00   \n",
      "75%           2,241,171.25        14,209,581.50                 3.00   \n",
      "max           2,982,274.00       167,688,532.00                18.00   \n",
      "\n",
      "                bedroomcnt  buildingqualitytypeid    calculatedbathnbr  \\\n",
      "count            77,184.00              49,670.00            76,767.00   \n",
      "mean                  3.06                   6.53                 2.32   \n",
      "std                   1.13                   1.72                 0.98   \n",
      "min                   0.00                   1.00                 1.00   \n",
      "25%                   2.00                   6.00                 2.00   \n",
      "50%                   3.00                   6.00                 2.00   \n",
      "75%                   4.00                   8.00                 3.00   \n",
      "max                  16.00                  12.00                18.00   \n",
      "\n",
      "       calculatedfinishedsquarefeet  finishedsquarefeet12  \\\n",
      "count                     77,170.00             73,744.00   \n",
      "mean                       1,785.15              1,760.44   \n",
      "std                          954.02                933.97   \n",
      "min                          128.00                128.00   \n",
      "25%                        1,182.00              1,172.00   \n",
      "50%                        1,543.00              1,523.00   \n",
      "75%                        2,113.00              2,075.25   \n",
      "max                       35,640.00             21,929.00   \n",
      "\n",
      "                      fips          fullbathcnt  ...              roomcnt  \\\n",
      "count            77,184.00            76,767.00  ...            77,184.00   \n",
      "mean              6,048.79                 2.25  ...                 1.48   \n",
      "std                  20.73                 0.97  ...                 2.83   \n",
      "min               6,037.00                 1.00  ...                 0.00   \n",
      "25%               6,037.00                 2.00  ...                 0.00   \n",
      "50%               6,037.00                 2.00  ...                 0.00   \n",
      "75%               6,059.00                 3.00  ...                 0.00   \n",
      "max               6,111.00                18.00  ...                15.00   \n",
      "\n",
      "                   unitcnt            yearbuilt  structuretaxvaluedollarcnt  \\\n",
      "count            50,562.00            77,101.00                   77,099.00   \n",
      "mean                  1.11             1,968.64                  188,756.47   \n",
      "std                   1.17                23.79                  227,587.86   \n",
      "min                   1.00             1,824.00                       44.00   \n",
      "25%                   1.00             1,953.00                   84,304.50   \n",
      "50%                   1.00             1,970.00                  136,499.00   \n",
      "75%                   1.00             1,987.00                  218,489.00   \n",
      "max                 237.00             2,016.00               11,421,790.00   \n",
      "\n",
      "         taxvaluedollarcnt       assessmentyear  landtaxvaluedollarcnt  \\\n",
      "count            77,183.00            77,184.00              77,183.00   \n",
      "mean            489,072.30             2,016.00             300,521.25   \n",
      "std             650,330.13                 0.00             491,273.52   \n",
      "min               1,000.00             2,016.00                 161.00   \n",
      "25%             207,102.00             2,016.00              85,482.00   \n",
      "50%             358,977.00             2,016.00             203,451.00   \n",
      "75%             568,902.50             2,016.00             366,561.00   \n",
      "max          49,061,236.00             2,016.00          48,952,198.00   \n",
      "\n",
      "                 taxamount    censustractandblock             logerror  \n",
      "count            77,179.00              76,964.00            77,184.00  \n",
      "mean              5,982.87  60,496,468,445,664.60                 0.02  \n",
      "std               7,582.72   1,536,915,321,995.86                 0.17  \n",
      "min                  19.92  60,371,011,101,000.00                -4.66  \n",
      "25%               2,717.78  60,373,109,002,013.00                -0.02  \n",
      "50%               4,450.84  60,376,030,061,506.00                 0.01  \n",
      "75%               6,924.82  60,590,423,243,004.00                 0.04  \n",
      "max             586,639.30 483,030,105,084,015.00                 5.26  \n",
      "\n",
      "[8 rows x 29 columns]\n",
      "----------\n",
      "Null value assessments: \n",
      "\n"
     ]
    },
    {
     "ename": "NameError",
     "evalue": "name 'nulls_by_col' is not defined",
     "output_type": "error",
     "traceback": [
      "\u001b[0;31m---------------------------------------------------------------------------\u001b[0m",
      "\u001b[0;31mNameError\u001b[0m                                 Traceback (most recent call last)",
      "Input \u001b[0;32mIn [18]\u001b[0m, in \u001b[0;36m<cell line: 1>\u001b[0;34m()\u001b[0m\n\u001b[0;32m----> 1\u001b[0m \u001b[43msummarize\u001b[49m\u001b[43m(\u001b[49m\u001b[43mdf\u001b[49m\u001b[43m)\u001b[49m\n",
      "Input \u001b[0;32mIn [15]\u001b[0m, in \u001b[0;36msummarize\u001b[0;34m(df)\u001b[0m\n\u001b[1;32m     10\u001b[0m \u001b[38;5;28mprint\u001b[39m(\u001b[38;5;124m'\u001b[39m\u001b[38;5;124m----------\u001b[39m\u001b[38;5;124m'\u001b[39m)\n\u001b[1;32m     11\u001b[0m \u001b[38;5;28mprint\u001b[39m(\u001b[38;5;124m'\u001b[39m\u001b[38;5;124mNull value assessments: \u001b[39m\u001b[38;5;130;01m\\n\u001b[39;00m\u001b[38;5;124m'\u001b[39m)\n\u001b[0;32m---> 12\u001b[0m \u001b[38;5;28mprint\u001b[39m(\u001b[38;5;124m'\u001b[39m\u001b[38;5;124mnulls by column: \u001b[39m\u001b[38;5;124m'\u001b[39m, \u001b[43mnulls_by_col\u001b[49m(df))\n\u001b[1;32m     13\u001b[0m \u001b[38;5;28mprint\u001b[39m(\u001b[38;5;124m'\u001b[39m\u001b[38;5;124m--\u001b[39m\u001b[38;5;124m'\u001b[39m)\n\u001b[1;32m     14\u001b[0m \u001b[38;5;28mprint\u001b[39m(\u001b[38;5;124m'\u001b[39m\u001b[38;5;124mnulls by row: \u001b[39m\u001b[38;5;124m'\u001b[39m, nulls_by_row(df))\n",
      "\u001b[0;31mNameError\u001b[0m: name 'nulls_by_col' is not defined"
     ]
    }
   ],
   "source": [
    "summarize(df)"
   ]
  },
  {
   "cell_type": "code",
   "execution_count": null,
   "id": "47e85938",
   "metadata": {},
   "outputs": [],
   "source": []
  }
 ],
 "metadata": {
  "kernelspec": {
   "display_name": "Python 3 (ipykernel)",
   "language": "python",
   "name": "python3"
  },
  "language_info": {
   "codemirror_mode": {
    "name": "ipython",
    "version": 3
   },
   "file_extension": ".py",
   "mimetype": "text/x-python",
   "name": "python",
   "nbconvert_exporter": "python",
   "pygments_lexer": "ipython3",
   "version": "3.9.12"
  }
 },
 "nbformat": 4,
 "nbformat_minor": 5
}
